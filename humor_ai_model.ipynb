{
 "metadata": {
  "language_info": {
   "codemirror_mode": {
    "name": "ipython",
    "version": 3
   },
   "file_extension": ".py",
   "mimetype": "text/x-python",
   "name": "python",
   "nbconvert_exporter": "python",
   "pygments_lexer": "ipython3",
   "version": "3.8.6"
  },
  "orig_nbformat": 2,
  "kernelspec": {
   "name": "python386jvsc74a57bd0a7e1dd84cd31e04f23e4662ae0884231fc1f27e15cb358ac91e6bcf716b0a890",
   "display_name": "Python 3.8.6 64-bit"
  }
 },
 "nbformat": 4,
 "nbformat_minor": 2,
 "cells": [
  {
   "source": [
    "## Model prep\n",
    "### Resources: \n",
    "- https://towardsdatascience.com/text-preprocessing-steps-and-universal-pipeline-94233cb6725a"
   ],
   "cell_type": "markdown",
   "metadata": {}
  },
  {
   "cell_type": "code",
   "execution_count": 68,
   "metadata": {},
   "outputs": [
    {
     "output_type": "stream",
     "name": "stderr",
     "text": [
      "[nltk_data] Downloading package stopwords to\n[nltk_data]     /home/overlord/nltk_data...\n[nltk_data]   Package stopwords is already up-to-date!\n"
     ]
    }
   ],
   "source": [
    "import pandas as pd\n",
    "import matplotlib.pyplot as plt\n",
    "import re\n",
    "import numpy as np\n",
    "import seaborn as sns\n",
    "import nltk\n",
    "import tensorflow as tf\n",
    "from sklearn.model_selection import train_test_split\n",
    "import keras\n",
    "nltk.download('stopwords')\n",
    "import string\n"
   ]
  },
  {
   "cell_type": "code",
   "execution_count": 69,
   "metadata": {},
   "outputs": [],
   "source": [
    "dataset = pd.read_csv(r'./data/humor-ai-data.csv')"
   ]
  },
  {
   "cell_type": "code",
   "execution_count": 70,
   "metadata": {},
   "outputs": [
    {
     "output_type": "execute_result",
     "data": {
      "text/plain": [
       "                                                body  rating  \\\n",
       "0  A man visits the doctor. The doctor says \"I ha...       3   \n",
       "1  This couple had an excellent relationship goin...       3   \n",
       "2  Q. What's 200 feet long and has 4 teeth?A. The...       3   \n",
       "3  Q. What's the difference between a man and a t...       3   \n",
       "4  Q.\\tWhat's O. J. Simpson's Internet address?A....       3   \n",
       "\n",
       "                                     id  \n",
       "0  72a59c7b-fe42-4490-8297-5ac3c4b3486a  \n",
       "1  f5ec106e-fa6d-4f97-81e6-2e78b9701832  \n",
       "2  3be1e2ec-76cd-476e-b283-55cb2b7ef70a  \n",
       "3  f808f5a9-dd98-4732-bd01-6c995c75c1ed  \n",
       "4  b498eefe-5fb6-41e0-b616-03dbf82013ec  "
      ],
      "text/html": "<div>\n<style scoped>\n    .dataframe tbody tr th:only-of-type {\n        vertical-align: middle;\n    }\n\n    .dataframe tbody tr th {\n        vertical-align: top;\n    }\n\n    .dataframe thead th {\n        text-align: right;\n    }\n</style>\n<table border=\"1\" class=\"dataframe\">\n  <thead>\n    <tr style=\"text-align: right;\">\n      <th></th>\n      <th>body</th>\n      <th>rating</th>\n      <th>id</th>\n    </tr>\n  </thead>\n  <tbody>\n    <tr>\n      <th>0</th>\n      <td>A man visits the doctor. The doctor says \"I ha...</td>\n      <td>3</td>\n      <td>72a59c7b-fe42-4490-8297-5ac3c4b3486a</td>\n    </tr>\n    <tr>\n      <th>1</th>\n      <td>This couple had an excellent relationship goin...</td>\n      <td>3</td>\n      <td>f5ec106e-fa6d-4f97-81e6-2e78b9701832</td>\n    </tr>\n    <tr>\n      <th>2</th>\n      <td>Q. What's 200 feet long and has 4 teeth?A. The...</td>\n      <td>3</td>\n      <td>3be1e2ec-76cd-476e-b283-55cb2b7ef70a</td>\n    </tr>\n    <tr>\n      <th>3</th>\n      <td>Q. What's the difference between a man and a t...</td>\n      <td>3</td>\n      <td>f808f5a9-dd98-4732-bd01-6c995c75c1ed</td>\n    </tr>\n    <tr>\n      <th>4</th>\n      <td>Q.\\tWhat's O. J. Simpson's Internet address?A....</td>\n      <td>3</td>\n      <td>b498eefe-5fb6-41e0-b616-03dbf82013ec</td>\n    </tr>\n  </tbody>\n</table>\n</div>"
     },
     "metadata": {},
     "execution_count": 70
    }
   ],
   "source": [
    "dataset.head()"
   ]
  },
  {
   "source": [
    "### Exploring the dataset\n",
    "Wee see a nice distribution of ratings, you can almost say it's well-blanced"
   ],
   "cell_type": "markdown",
   "metadata": {}
  },
  {
   "cell_type": "code",
   "execution_count": 71,
   "metadata": {},
   "outputs": [
    {
     "output_type": "display_data",
     "data": {
      "text/plain": "<Figure size 576x432 with 1 Axes>",
      "image/svg+xml": "<?xml version=\"1.0\" encoding=\"utf-8\" standalone=\"no\"?>\n<!DOCTYPE svg PUBLIC \"-//W3C//DTD SVG 1.1//EN\"\n  \"http://www.w3.org/Graphics/SVG/1.1/DTD/svg11.dtd\">\n<svg height=\"367.600625pt\" version=\"1.1\" viewBox=\"0 0 493.25 367.600625\" width=\"493.25pt\" xmlns=\"http://www.w3.org/2000/svg\" xmlns:xlink=\"http://www.w3.org/1999/xlink\">\n <metadata>\n  <rdf:RDF xmlns:cc=\"http://creativecommons.org/ns#\" xmlns:dc=\"http://purl.org/dc/elements/1.1/\" xmlns:rdf=\"http://www.w3.org/1999/02/22-rdf-syntax-ns#\">\n   <cc:Work>\n    <dc:type rdf:resource=\"http://purl.org/dc/dcmitype/StillImage\"/>\n    <dc:date>2021-04-17T19:25:56.612029</dc:date>\n    <dc:format>image/svg+xml</dc:format>\n    <dc:creator>\n     <cc:Agent>\n      <dc:title>Matplotlib v3.4.1, https://matplotlib.org/</dc:title>\n     </cc:Agent>\n    </dc:creator>\n   </cc:Work>\n  </rdf:RDF>\n </metadata>\n <defs>\n  <style type=\"text/css\">*{stroke-linecap:butt;stroke-linejoin:round;}</style>\n </defs>\n <g id=\"figure_1\">\n  <g id=\"patch_1\">\n   <path d=\"M 0 367.600625 \nL 493.25 367.600625 \nL 493.25 0 \nL 0 0 \nz\n\" style=\"fill:none;\"/>\n  </g>\n  <g id=\"axes_1\">\n   <g id=\"patch_2\">\n    <path d=\"M 39.65 333.36 \nL 486.05 333.36 \nL 486.05 7.2 \nL 39.65 7.2 \nz\n\" style=\"fill:#ffffff;\"/>\n   </g>\n   <g id=\"patch_3\">\n    <path clip-path=\"url(#p173d3b518e)\" d=\"M 61.97 333.36 \nL 106.61 333.36 \nL 106.61 265.210343 \nL 61.97 265.210343 \nz\n\" style=\"fill:#1f77b4;\"/>\n   </g>\n   <g id=\"patch_4\">\n    <path clip-path=\"url(#p173d3b518e)\" d=\"M 151.25 333.36 \nL 195.89 333.36 \nL 195.89 133.170382 \nL 151.25 133.170382 \nz\n\" style=\"fill:#1f77b4;\"/>\n   </g>\n   <g id=\"patch_5\">\n    <path clip-path=\"url(#p173d3b518e)\" d=\"M 240.53 333.36 \nL 285.17 333.36 \nL 285.17 74.452151 \nL 240.53 74.452151 \nz\n\" style=\"fill:#1f77b4;\"/>\n   </g>\n   <g id=\"patch_6\">\n    <path clip-path=\"url(#p173d3b518e)\" d=\"M 329.81 333.36 \nL 374.45 333.36 \nL 374.45 22.731429 \nL 329.81 22.731429 \nz\n\" style=\"fill:#1f77b4;\"/>\n   </g>\n   <g id=\"patch_7\">\n    <path clip-path=\"url(#p173d3b518e)\" d=\"M 419.09 333.36 \nL 463.73 333.36 \nL 463.73 175.155439 \nL 419.09 175.155439 \nz\n\" style=\"fill:#1f77b4;\"/>\n   </g>\n   <g id=\"matplotlib.axis_1\">\n    <g id=\"xtick_1\">\n     <g id=\"line2d_1\">\n      <defs>\n       <path d=\"M 0 0 \nL 0 3.5 \n\" id=\"m5729e4a896\" style=\"stroke:#000000;stroke-width:0.8;\"/>\n      </defs>\n      <g>\n       <use style=\"stroke:#000000;stroke-width:0.8;\" x=\"84.29\" xlink:href=\"#m5729e4a896\" y=\"333.36\"/>\n      </g>\n     </g>\n     <g id=\"text_1\">\n      <!-- 1 -->\n      <g transform=\"translate(87.049375 346.7225)rotate(-90)scale(0.1 -0.1)\">\n       <defs>\n        <path d=\"M 794 531 \nL 1825 531 \nL 1825 4091 \nL 703 3866 \nL 703 4441 \nL 1819 4666 \nL 2450 4666 \nL 2450 531 \nL 3481 531 \nL 3481 0 \nL 794 0 \nL 794 531 \nz\n\" id=\"DejaVuSans-31\" transform=\"scale(0.015625)\"/>\n       </defs>\n       <use xlink:href=\"#DejaVuSans-31\"/>\n      </g>\n     </g>\n    </g>\n    <g id=\"xtick_2\">\n     <g id=\"line2d_2\">\n      <g>\n       <use style=\"stroke:#000000;stroke-width:0.8;\" x=\"173.57\" xlink:href=\"#m5729e4a896\" y=\"333.36\"/>\n      </g>\n     </g>\n     <g id=\"text_2\">\n      <!-- 2 -->\n      <g transform=\"translate(176.329375 346.7225)rotate(-90)scale(0.1 -0.1)\">\n       <defs>\n        <path d=\"M 1228 531 \nL 3431 531 \nL 3431 0 \nL 469 0 \nL 469 531 \nQ 828 903 1448 1529 \nQ 2069 2156 2228 2338 \nQ 2531 2678 2651 2914 \nQ 2772 3150 2772 3378 \nQ 2772 3750 2511 3984 \nQ 2250 4219 1831 4219 \nQ 1534 4219 1204 4116 \nQ 875 4013 500 3803 \nL 500 4441 \nQ 881 4594 1212 4672 \nQ 1544 4750 1819 4750 \nQ 2544 4750 2975 4387 \nQ 3406 4025 3406 3419 \nQ 3406 3131 3298 2873 \nQ 3191 2616 2906 2266 \nQ 2828 2175 2409 1742 \nQ 1991 1309 1228 531 \nz\n\" id=\"DejaVuSans-32\" transform=\"scale(0.015625)\"/>\n       </defs>\n       <use xlink:href=\"#DejaVuSans-32\"/>\n      </g>\n     </g>\n    </g>\n    <g id=\"xtick_3\">\n     <g id=\"line2d_3\">\n      <g>\n       <use style=\"stroke:#000000;stroke-width:0.8;\" x=\"262.85\" xlink:href=\"#m5729e4a896\" y=\"333.36\"/>\n      </g>\n     </g>\n     <g id=\"text_3\">\n      <!-- 3 -->\n      <g transform=\"translate(265.609375 346.7225)rotate(-90)scale(0.1 -0.1)\">\n       <defs>\n        <path d=\"M 2597 2516 \nQ 3050 2419 3304 2112 \nQ 3559 1806 3559 1356 \nQ 3559 666 3084 287 \nQ 2609 -91 1734 -91 \nQ 1441 -91 1130 -33 \nQ 819 25 488 141 \nL 488 750 \nQ 750 597 1062 519 \nQ 1375 441 1716 441 \nQ 2309 441 2620 675 \nQ 2931 909 2931 1356 \nQ 2931 1769 2642 2001 \nQ 2353 2234 1838 2234 \nL 1294 2234 \nL 1294 2753 \nL 1863 2753 \nQ 2328 2753 2575 2939 \nQ 2822 3125 2822 3475 \nQ 2822 3834 2567 4026 \nQ 2313 4219 1838 4219 \nQ 1578 4219 1281 4162 \nQ 984 4106 628 3988 \nL 628 4550 \nQ 988 4650 1302 4700 \nQ 1616 4750 1894 4750 \nQ 2613 4750 3031 4423 \nQ 3450 4097 3450 3541 \nQ 3450 3153 3228 2886 \nQ 3006 2619 2597 2516 \nz\n\" id=\"DejaVuSans-33\" transform=\"scale(0.015625)\"/>\n       </defs>\n       <use xlink:href=\"#DejaVuSans-33\"/>\n      </g>\n     </g>\n    </g>\n    <g id=\"xtick_4\">\n     <g id=\"line2d_4\">\n      <g>\n       <use style=\"stroke:#000000;stroke-width:0.8;\" x=\"352.13\" xlink:href=\"#m5729e4a896\" y=\"333.36\"/>\n      </g>\n     </g>\n     <g id=\"text_4\">\n      <!-- 4 -->\n      <g transform=\"translate(354.889375 346.7225)rotate(-90)scale(0.1 -0.1)\">\n       <defs>\n        <path d=\"M 2419 4116 \nL 825 1625 \nL 2419 1625 \nL 2419 4116 \nz\nM 2253 4666 \nL 3047 4666 \nL 3047 1625 \nL 3713 1625 \nL 3713 1100 \nL 3047 1100 \nL 3047 0 \nL 2419 0 \nL 2419 1100 \nL 313 1100 \nL 313 1709 \nL 2253 4666 \nz\n\" id=\"DejaVuSans-34\" transform=\"scale(0.015625)\"/>\n       </defs>\n       <use xlink:href=\"#DejaVuSans-34\"/>\n      </g>\n     </g>\n    </g>\n    <g id=\"xtick_5\">\n     <g id=\"line2d_5\">\n      <g>\n       <use style=\"stroke:#000000;stroke-width:0.8;\" x=\"441.41\" xlink:href=\"#m5729e4a896\" y=\"333.36\"/>\n      </g>\n     </g>\n     <g id=\"text_5\">\n      <!-- 5 -->\n      <g transform=\"translate(444.169375 346.7225)rotate(-90)scale(0.1 -0.1)\">\n       <defs>\n        <path d=\"M 691 4666 \nL 3169 4666 \nL 3169 4134 \nL 1269 4134 \nL 1269 2991 \nQ 1406 3038 1543 3061 \nQ 1681 3084 1819 3084 \nQ 2600 3084 3056 2656 \nQ 3513 2228 3513 1497 \nQ 3513 744 3044 326 \nQ 2575 -91 1722 -91 \nQ 1428 -91 1123 -41 \nQ 819 9 494 109 \nL 494 744 \nQ 775 591 1075 516 \nQ 1375 441 1709 441 \nQ 2250 441 2565 725 \nQ 2881 1009 2881 1497 \nQ 2881 1984 2565 2268 \nQ 2250 2553 1709 2553 \nQ 1456 2553 1204 2497 \nQ 953 2441 691 2322 \nL 691 4666 \nz\n\" id=\"DejaVuSans-35\" transform=\"scale(0.015625)\"/>\n       </defs>\n       <use xlink:href=\"#DejaVuSans-35\"/>\n      </g>\n     </g>\n    </g>\n    <g id=\"text_6\">\n     <!-- rating -->\n     <g transform=\"translate(248.038281 358.320938)scale(0.1 -0.1)\">\n      <defs>\n       <path d=\"M 2631 2963 \nQ 2534 3019 2420 3045 \nQ 2306 3072 2169 3072 \nQ 1681 3072 1420 2755 \nQ 1159 2438 1159 1844 \nL 1159 0 \nL 581 0 \nL 581 3500 \nL 1159 3500 \nL 1159 2956 \nQ 1341 3275 1631 3429 \nQ 1922 3584 2338 3584 \nQ 2397 3584 2469 3576 \nQ 2541 3569 2628 3553 \nL 2631 2963 \nz\n\" id=\"DejaVuSans-72\" transform=\"scale(0.015625)\"/>\n       <path d=\"M 2194 1759 \nQ 1497 1759 1228 1600 \nQ 959 1441 959 1056 \nQ 959 750 1161 570 \nQ 1363 391 1709 391 \nQ 2188 391 2477 730 \nQ 2766 1069 2766 1631 \nL 2766 1759 \nL 2194 1759 \nz\nM 3341 1997 \nL 3341 0 \nL 2766 0 \nL 2766 531 \nQ 2569 213 2275 61 \nQ 1981 -91 1556 -91 \nQ 1019 -91 701 211 \nQ 384 513 384 1019 \nQ 384 1609 779 1909 \nQ 1175 2209 1959 2209 \nL 2766 2209 \nL 2766 2266 \nQ 2766 2663 2505 2880 \nQ 2244 3097 1772 3097 \nQ 1472 3097 1187 3025 \nQ 903 2953 641 2809 \nL 641 3341 \nQ 956 3463 1253 3523 \nQ 1550 3584 1831 3584 \nQ 2591 3584 2966 3190 \nQ 3341 2797 3341 1997 \nz\n\" id=\"DejaVuSans-61\" transform=\"scale(0.015625)\"/>\n       <path d=\"M 1172 4494 \nL 1172 3500 \nL 2356 3500 \nL 2356 3053 \nL 1172 3053 \nL 1172 1153 \nQ 1172 725 1289 603 \nQ 1406 481 1766 481 \nL 2356 481 \nL 2356 0 \nL 1766 0 \nQ 1100 0 847 248 \nQ 594 497 594 1153 \nL 594 3053 \nL 172 3053 \nL 172 3500 \nL 594 3500 \nL 594 4494 \nL 1172 4494 \nz\n\" id=\"DejaVuSans-74\" transform=\"scale(0.015625)\"/>\n       <path d=\"M 603 3500 \nL 1178 3500 \nL 1178 0 \nL 603 0 \nL 603 3500 \nz\nM 603 4863 \nL 1178 4863 \nL 1178 4134 \nL 603 4134 \nL 603 4863 \nz\n\" id=\"DejaVuSans-69\" transform=\"scale(0.015625)\"/>\n       <path d=\"M 3513 2113 \nL 3513 0 \nL 2938 0 \nL 2938 2094 \nQ 2938 2591 2744 2837 \nQ 2550 3084 2163 3084 \nQ 1697 3084 1428 2787 \nQ 1159 2491 1159 1978 \nL 1159 0 \nL 581 0 \nL 581 3500 \nL 1159 3500 \nL 1159 2956 \nQ 1366 3272 1645 3428 \nQ 1925 3584 2291 3584 \nQ 2894 3584 3203 3211 \nQ 3513 2838 3513 2113 \nz\n\" id=\"DejaVuSans-6e\" transform=\"scale(0.015625)\"/>\n       <path d=\"M 2906 1791 \nQ 2906 2416 2648 2759 \nQ 2391 3103 1925 3103 \nQ 1463 3103 1205 2759 \nQ 947 2416 947 1791 \nQ 947 1169 1205 825 \nQ 1463 481 1925 481 \nQ 2391 481 2648 825 \nQ 2906 1169 2906 1791 \nz\nM 3481 434 \nQ 3481 -459 3084 -895 \nQ 2688 -1331 1869 -1331 \nQ 1566 -1331 1297 -1286 \nQ 1028 -1241 775 -1147 \nL 775 -588 \nQ 1028 -725 1275 -790 \nQ 1522 -856 1778 -856 \nQ 2344 -856 2625 -561 \nQ 2906 -266 2906 331 \nL 2906 616 \nQ 2728 306 2450 153 \nQ 2172 0 1784 0 \nQ 1141 0 747 490 \nQ 353 981 353 1791 \nQ 353 2603 747 3093 \nQ 1141 3584 1784 3584 \nQ 2172 3584 2450 3431 \nQ 2728 3278 2906 2969 \nL 2906 3500 \nL 3481 3500 \nL 3481 434 \nz\n\" id=\"DejaVuSans-67\" transform=\"scale(0.015625)\"/>\n      </defs>\n      <use xlink:href=\"#DejaVuSans-72\"/>\n      <use x=\"41.113281\" xlink:href=\"#DejaVuSans-61\"/>\n      <use x=\"102.392578\" xlink:href=\"#DejaVuSans-74\"/>\n      <use x=\"141.601562\" xlink:href=\"#DejaVuSans-69\"/>\n      <use x=\"169.384766\" xlink:href=\"#DejaVuSans-6e\"/>\n      <use x=\"232.763672\" xlink:href=\"#DejaVuSans-67\"/>\n     </g>\n    </g>\n   </g>\n   <g id=\"matplotlib.axis_2\">\n    <g id=\"ytick_1\">\n     <g id=\"line2d_6\">\n      <defs>\n       <path d=\"M 0 0 \nL -3.5 0 \n\" id=\"m6995d7fe16\" style=\"stroke:#000000;stroke-width:0.8;\"/>\n      </defs>\n      <g>\n       <use style=\"stroke:#000000;stroke-width:0.8;\" x=\"39.65\" xlink:href=\"#m6995d7fe16\" y=\"333.36\"/>\n      </g>\n     </g>\n     <g id=\"text_7\">\n      <!-- 0 -->\n      <g transform=\"translate(26.2875 337.159219)scale(0.1 -0.1)\">\n       <defs>\n        <path d=\"M 2034 4250 \nQ 1547 4250 1301 3770 \nQ 1056 3291 1056 2328 \nQ 1056 1369 1301 889 \nQ 1547 409 2034 409 \nQ 2525 409 2770 889 \nQ 3016 1369 3016 2328 \nQ 3016 3291 2770 3770 \nQ 2525 4250 2034 4250 \nz\nM 2034 4750 \nQ 2819 4750 3233 4129 \nQ 3647 3509 3647 2328 \nQ 3647 1150 3233 529 \nQ 2819 -91 2034 -91 \nQ 1250 -91 836 529 \nQ 422 1150 422 2328 \nQ 422 3509 836 4129 \nQ 1250 4750 2034 4750 \nz\n\" id=\"DejaVuSans-30\" transform=\"scale(0.015625)\"/>\n       </defs>\n       <use xlink:href=\"#DejaVuSans-30\"/>\n      </g>\n     </g>\n    </g>\n    <g id=\"ytick_2\">\n     <g id=\"line2d_7\">\n      <g>\n       <use style=\"stroke:#000000;stroke-width:0.8;\" x=\"39.65\" xlink:href=\"#m6995d7fe16\" y=\"272.512092\"/>\n      </g>\n     </g>\n     <g id=\"text_8\">\n      <!-- 200 -->\n      <g transform=\"translate(13.5625 276.311311)scale(0.1 -0.1)\">\n       <use xlink:href=\"#DejaVuSans-32\"/>\n       <use x=\"63.623047\" xlink:href=\"#DejaVuSans-30\"/>\n       <use x=\"127.246094\" xlink:href=\"#DejaVuSans-30\"/>\n      </g>\n     </g>\n    </g>\n    <g id=\"ytick_3\">\n     <g id=\"line2d_8\">\n      <g>\n       <use style=\"stroke:#000000;stroke-width:0.8;\" x=\"39.65\" xlink:href=\"#m6995d7fe16\" y=\"211.664184\"/>\n      </g>\n     </g>\n     <g id=\"text_9\">\n      <!-- 400 -->\n      <g transform=\"translate(13.5625 215.463402)scale(0.1 -0.1)\">\n       <use xlink:href=\"#DejaVuSans-34\"/>\n       <use x=\"63.623047\" xlink:href=\"#DejaVuSans-30\"/>\n       <use x=\"127.246094\" xlink:href=\"#DejaVuSans-30\"/>\n      </g>\n     </g>\n    </g>\n    <g id=\"ytick_4\">\n     <g id=\"line2d_9\">\n      <g>\n       <use style=\"stroke:#000000;stroke-width:0.8;\" x=\"39.65\" xlink:href=\"#m6995d7fe16\" y=\"150.816275\"/>\n      </g>\n     </g>\n     <g id=\"text_10\">\n      <!-- 600 -->\n      <g transform=\"translate(13.5625 154.615494)scale(0.1 -0.1)\">\n       <defs>\n        <path d=\"M 2113 2584 \nQ 1688 2584 1439 2293 \nQ 1191 2003 1191 1497 \nQ 1191 994 1439 701 \nQ 1688 409 2113 409 \nQ 2538 409 2786 701 \nQ 3034 994 3034 1497 \nQ 3034 2003 2786 2293 \nQ 2538 2584 2113 2584 \nz\nM 3366 4563 \nL 3366 3988 \nQ 3128 4100 2886 4159 \nQ 2644 4219 2406 4219 \nQ 1781 4219 1451 3797 \nQ 1122 3375 1075 2522 \nQ 1259 2794 1537 2939 \nQ 1816 3084 2150 3084 \nQ 2853 3084 3261 2657 \nQ 3669 2231 3669 1497 \nQ 3669 778 3244 343 \nQ 2819 -91 2113 -91 \nQ 1303 -91 875 529 \nQ 447 1150 447 2328 \nQ 447 3434 972 4092 \nQ 1497 4750 2381 4750 \nQ 2619 4750 2861 4703 \nQ 3103 4656 3366 4563 \nz\n\" id=\"DejaVuSans-36\" transform=\"scale(0.015625)\"/>\n       </defs>\n       <use xlink:href=\"#DejaVuSans-36\"/>\n       <use x=\"63.623047\" xlink:href=\"#DejaVuSans-30\"/>\n       <use x=\"127.246094\" xlink:href=\"#DejaVuSans-30\"/>\n      </g>\n     </g>\n    </g>\n    <g id=\"ytick_5\">\n     <g id=\"line2d_10\">\n      <g>\n       <use style=\"stroke:#000000;stroke-width:0.8;\" x=\"39.65\" xlink:href=\"#m6995d7fe16\" y=\"89.968367\"/>\n      </g>\n     </g>\n     <g id=\"text_11\">\n      <!-- 800 -->\n      <g transform=\"translate(13.5625 93.767586)scale(0.1 -0.1)\">\n       <defs>\n        <path d=\"M 2034 2216 \nQ 1584 2216 1326 1975 \nQ 1069 1734 1069 1313 \nQ 1069 891 1326 650 \nQ 1584 409 2034 409 \nQ 2484 409 2743 651 \nQ 3003 894 3003 1313 \nQ 3003 1734 2745 1975 \nQ 2488 2216 2034 2216 \nz\nM 1403 2484 \nQ 997 2584 770 2862 \nQ 544 3141 544 3541 \nQ 544 4100 942 4425 \nQ 1341 4750 2034 4750 \nQ 2731 4750 3128 4425 \nQ 3525 4100 3525 3541 \nQ 3525 3141 3298 2862 \nQ 3072 2584 2669 2484 \nQ 3125 2378 3379 2068 \nQ 3634 1759 3634 1313 \nQ 3634 634 3220 271 \nQ 2806 -91 2034 -91 \nQ 1263 -91 848 271 \nQ 434 634 434 1313 \nQ 434 1759 690 2068 \nQ 947 2378 1403 2484 \nz\nM 1172 3481 \nQ 1172 3119 1398 2916 \nQ 1625 2713 2034 2713 \nQ 2441 2713 2670 2916 \nQ 2900 3119 2900 3481 \nQ 2900 3844 2670 4047 \nQ 2441 4250 2034 4250 \nQ 1625 4250 1398 4047 \nQ 1172 3844 1172 3481 \nz\n\" id=\"DejaVuSans-38\" transform=\"scale(0.015625)\"/>\n       </defs>\n       <use xlink:href=\"#DejaVuSans-38\"/>\n       <use x=\"63.623047\" xlink:href=\"#DejaVuSans-30\"/>\n       <use x=\"127.246094\" xlink:href=\"#DejaVuSans-30\"/>\n      </g>\n     </g>\n    </g>\n    <g id=\"ytick_6\">\n     <g id=\"line2d_11\">\n      <g>\n       <use style=\"stroke:#000000;stroke-width:0.8;\" x=\"39.65\" xlink:href=\"#m6995d7fe16\" y=\"29.120459\"/>\n      </g>\n     </g>\n     <g id=\"text_12\">\n      <!-- 1000 -->\n      <g transform=\"translate(7.2 32.919678)scale(0.1 -0.1)\">\n       <use xlink:href=\"#DejaVuSans-31\"/>\n       <use x=\"63.623047\" xlink:href=\"#DejaVuSans-30\"/>\n       <use x=\"127.246094\" xlink:href=\"#DejaVuSans-30\"/>\n       <use x=\"190.869141\" xlink:href=\"#DejaVuSans-30\"/>\n      </g>\n     </g>\n    </g>\n   </g>\n   <g id=\"patch_8\">\n    <path d=\"M 39.65 333.36 \nL 39.65 7.2 \n\" style=\"fill:none;stroke:#000000;stroke-linecap:square;stroke-linejoin:miter;stroke-width:0.8;\"/>\n   </g>\n   <g id=\"patch_9\">\n    <path d=\"M 486.05 333.36 \nL 486.05 7.2 \n\" style=\"fill:none;stroke:#000000;stroke-linecap:square;stroke-linejoin:miter;stroke-width:0.8;\"/>\n   </g>\n   <g id=\"patch_10\">\n    <path d=\"M 39.65 333.36 \nL 486.05 333.36 \n\" style=\"fill:none;stroke:#000000;stroke-linecap:square;stroke-linejoin:miter;stroke-width:0.8;\"/>\n   </g>\n   <g id=\"patch_11\">\n    <path d=\"M 39.65 7.2 \nL 486.05 7.2 \n\" style=\"fill:none;stroke:#000000;stroke-linecap:square;stroke-linejoin:miter;stroke-width:0.8;\"/>\n   </g>\n  </g>\n </g>\n <defs>\n  <clipPath id=\"p173d3b518e\">\n   <rect height=\"326.16\" width=\"446.4\" x=\"39.65\" y=\"7.2\"/>\n  </clipPath>\n </defs>\n</svg>\n",
      "image/png": "[encoded data removed]"
     },
     "metadata": {
      "needs_background": "light"
     }
    }
   ],
   "source": [
    "\n",
    "fig = plt.figure(figsize=(8,6))\n",
    "dataset.groupby('rating').body.count().plot.bar()\n",
    "plt.show()"
   ]
  },
  {
   "source": [
    "### Assigning text labels to the ratings\n",
    "Goes as follows:\n",
    "1 == \"terrible\"\n",
    "2 == \"not good\"\n",
    "3 == \"ok\"\n",
    "4 == \"funny\"\n",
    "5 == \"very funny\""
   ],
   "cell_type": "markdown",
   "metadata": {}
  },
  {
   "cell_type": "code",
   "execution_count": 72,
   "metadata": {},
   "outputs": [],
   "source": [
    "# TODO: save new ratings as a new column\n",
    "def tranform_rating(rating):\n",
    "    if rating == 1:\n",
    "        return \"terrible\"\n",
    "    elif rating == 2:\n",
    "        return \"not good\"\n",
    "    elif rating == 3:\n",
    "        return \"ok\"\n",
    "    elif rating == 4:\n",
    "        return \"funny\"\n",
    "    elif rating == 5:\n",
    "        return \"very funny\"\n"
   ]
  },
  {
   "cell_type": "code",
   "execution_count": 73,
   "metadata": {},
   "outputs": [],
   "source": [
    "dataset['rating_text'] = dataset['rating'].apply(tranform_rating)"
   ]
  },
  {
   "cell_type": "code",
   "execution_count": 74,
   "metadata": {},
   "outputs": [
    {
     "output_type": "execute_result",
     "data": {
      "text/plain": [
       "                                                body  rating  \\\n",
       "0  A man visits the doctor. The doctor says \"I ha...       3   \n",
       "1  This couple had an excellent relationship goin...       3   \n",
       "2  Q. What's 200 feet long and has 4 teeth?A. The...       3   \n",
       "3  Q. What's the difference between a man and a t...       3   \n",
       "4  Q.\\tWhat's O. J. Simpson's Internet address?A....       3   \n",
       "\n",
       "                                     id rating_text  \n",
       "0  72a59c7b-fe42-4490-8297-5ac3c4b3486a          ok  \n",
       "1  f5ec106e-fa6d-4f97-81e6-2e78b9701832          ok  \n",
       "2  3be1e2ec-76cd-476e-b283-55cb2b7ef70a          ok  \n",
       "3  f808f5a9-dd98-4732-bd01-6c995c75c1ed          ok  \n",
       "4  b498eefe-5fb6-41e0-b616-03dbf82013ec          ok  "
      ],
      "text/html": "<div>\n<style scoped>\n    .dataframe tbody tr th:only-of-type {\n        vertical-align: middle;\n    }\n\n    .dataframe tbody tr th {\n        vertical-align: top;\n    }\n\n    .dataframe thead th {\n        text-align: right;\n    }\n</style>\n<table border=\"1\" class=\"dataframe\">\n  <thead>\n    <tr style=\"text-align: right;\">\n      <th></th>\n      <th>body</th>\n      <th>rating</th>\n      <th>id</th>\n      <th>rating_text</th>\n    </tr>\n  </thead>\n  <tbody>\n    <tr>\n      <th>0</th>\n      <td>A man visits the doctor. The doctor says \"I ha...</td>\n      <td>3</td>\n      <td>72a59c7b-fe42-4490-8297-5ac3c4b3486a</td>\n      <td>ok</td>\n    </tr>\n    <tr>\n      <th>1</th>\n      <td>This couple had an excellent relationship goin...</td>\n      <td>3</td>\n      <td>f5ec106e-fa6d-4f97-81e6-2e78b9701832</td>\n      <td>ok</td>\n    </tr>\n    <tr>\n      <th>2</th>\n      <td>Q. What's 200 feet long and has 4 teeth?A. The...</td>\n      <td>3</td>\n      <td>3be1e2ec-76cd-476e-b283-55cb2b7ef70a</td>\n      <td>ok</td>\n    </tr>\n    <tr>\n      <th>3</th>\n      <td>Q. What's the difference between a man and a t...</td>\n      <td>3</td>\n      <td>f808f5a9-dd98-4732-bd01-6c995c75c1ed</td>\n      <td>ok</td>\n    </tr>\n    <tr>\n      <th>4</th>\n      <td>Q.\\tWhat's O. J. Simpson's Internet address?A....</td>\n      <td>3</td>\n      <td>b498eefe-5fb6-41e0-b616-03dbf82013ec</td>\n      <td>ok</td>\n    </tr>\n  </tbody>\n</table>\n</div>"
     },
     "metadata": {},
     "execution_count": 74
    }
   ],
   "source": [
    "dataset.head()"
   ]
  },
  {
   "source": [
    "### Text processing with Spacy"
   ],
   "cell_type": "markdown",
   "metadata": {}
  },
  {
   "cell_type": "code",
   "execution_count": 75,
   "metadata": {},
   "outputs": [],
   "source": [
    "# Stolen from https://github.com/slaps-lab/bibliotheca/blob/master/text/expand_contractions_with_spacy.ipynb\n",
    "def expand_contractions(text: str) -> str:\n",
    "    \n",
    "    ## https://en.wikipedia.org/wiki/Wikipedia:List_of_English_contractions\n",
    "    \n",
    "    flags = re.IGNORECASE | re.MULTILINE\n",
    "    \n",
    "    text = re.sub(r'`', \"'\", text, flags = flags)\n",
    "    \n",
    "    ## starts / ends with '\n",
    "    text = re.sub(\n",
    "        r\"(\\s|^)'(aight|cause)(\\s|$)\",\n",
    "        '\\g<1>\\g<2>\\g<3>',\n",
    "        text, flags = flags\n",
    "    )\n",
    "    \n",
    "    text = re.sub(\n",
    "        r\"(\\s|^)'t(was|is)(\\s|$)\", r'\\g<1>it \\g<2>\\g<3>',\n",
    "        text,\n",
    "        flags = flags\n",
    "    )\n",
    "    \n",
    "    text = re.sub(\n",
    "        r\"(\\s|^)ol'(\\s|$)\",\n",
    "        '\\g<1>old\\g<2>',\n",
    "        text, flags = flags\n",
    "    )\n",
    "    \n",
    "    ## expand words without '\n",
    "    text = re.sub(r\"\\b(aight)\\b\", 'alright', text, flags = flags)\n",
    "    text = re.sub(r'\\bcause\\b', 'because', text, flags = flags)\n",
    "    text = re.sub(r'\\b(finna|gonna)\\b', 'going to', text, flags = flags)\n",
    "    text = re.sub(r'\\bgimme\\b', 'give me', text, flags = flags)\n",
    "    text = re.sub(r\"\\bgive'n\\b\", 'given', text, flags = flags)\n",
    "    text = re.sub(r\"\\bhowdy\\b\", 'how do you do', text, flags = flags)\n",
    "    text = re.sub(r\"\\bgotta\\b\", 'got to', text, flags = flags)\n",
    "    text = re.sub(r\"\\binnit\\b\", 'is it not', text, flags = flags)\n",
    "    text = re.sub(r\"\\b(can)(not)\\b\", r'\\g<1> \\g<2>', text, flags = flags)\n",
    "    text = re.sub(r\"\\bwanna\\b\", 'want to', text, flags = flags)\n",
    "    text = re.sub(r\"\\bmethinks\\b\", 'me thinks', text, flags = flags)\n",
    "    \n",
    "    ## one offs,\n",
    "    text = re.sub(r\"\\bo'er\\b\", r'over', text, flags = flags)\n",
    "    text = re.sub(r\"\\bne'er\\b\", r'never', text, flags = flags)\n",
    "    text = re.sub(r\"\\bo'?clock\\b\", 'of the clock', text, flags = flags)\n",
    "    text = re.sub(r\"\\bma'am\\b\", 'madam', text, flags = flags)\n",
    "    text = re.sub(r\"\\bgiv'n\\b\", 'given', text, flags = flags)\n",
    "    text = re.sub(r\"\\be'er\\b\", 'ever', text, flags = flags)\n",
    "    text = re.sub(r\"\\bd'ye\\b\", 'do you', text, flags = flags)\n",
    "    text = re.sub(r\"\\be'er\\b\", 'ever', text, flags = flags)\n",
    "    text = re.sub(r\"\\bd'ye\\b\", 'do you', text, flags = flags)\n",
    "    text = re.sub(r\"\\bg'?day\\b\", 'good day', text, flags = flags)\n",
    "    text = re.sub(r\"\\b(ain|amn)'?t\\b\", 'am not', text, flags = flags)\n",
    "    text = re.sub(r\"\\b(are|can)'?t\\b\", r'\\g<1> not', text, flags = flags)\n",
    "    text = re.sub(r\"\\b(let)'?s\\b\", r'\\g<1> us', text, flags = flags)\n",
    "    \n",
    "    ## major expansions involving smaller,\n",
    "    text = re.sub(r\"\\by'all'dn't've'd\\b\", 'you all would not have had', text, flags = flags)\n",
    "    text = re.sub(r\"\\by'all're\\b\", 'you all are', text, flags = flags)\n",
    "    text = re.sub(r\"\\by'all'd've\\b\", 'you all would have', text, flags = flags)\n",
    "    text = re.sub(r\"(\\s)y'all(\\s)\", r'\\g<1>you all\\g<2>', text, flags = flags)\n",
    "    \n",
    "    ## minor,\n",
    "    text = re.sub(r\"\\b(won)'?t\\b\", 'will not', text, flags = flags)\n",
    "    text = re.sub(r\"\\bhe'd\\b\", 'he had', text, flags = flags)\n",
    "\n",
    "    ## major,\n",
    "    text = re.sub(r\"\\b(I|we|who)'?d'?ve\\b\", r'\\g<1> would have', text, flags = flags)\n",
    "    text = re.sub(r\"\\b(could|would|must|should|would)n'?t'?ve\\b\", r'\\g<1> not have', text, flags = flags)\n",
    "    text = re.sub(r\"\\b(he)'?dn'?t'?ve'?d\\b\", r'\\g<1> would not have had', text, flags = flags)\n",
    "    text = re.sub(r\"\\b(daren|daresn|dasn)'?t\", 'dare not', text, flags = flags)\n",
    "    text = re.sub(r\"\\b(he|how|i|it|she|that|there|these|they|we|what|where|which|who|you)'?ll\\b\", r'\\g<1> will', text, flags = flags)\n",
    "    text = re.sub(r\"\\b(everybody|everyone|he|how|it|she|somebody|someone|something|that|there|this|what|when|where|which|who|why)'?s\\b\", r'\\g<1> is', text, flags = flags)\n",
    "    text = re.sub(r\"\\b(I)'?m'a\\b\", r'\\g<1> am about to', text, flags = flags)\n",
    "    text = re.sub(r\"\\b(I)'?m'o\\b\", r'\\g<1> am going to', text, flags = flags)\n",
    "    text = re.sub(r\"\\b(I)'?m\\b\", r'\\g<1> am', text, flags = flags)\n",
    "    text = re.sub(r\"\\bshan't\\b\", 'shall not', text, flags = flags)\n",
    "    text = re.sub(r\"\\b(are|could|did|does|do|go|had|has|have|is|may|might|must|need|ought|shall|should|was|were|would)n'?t\\b\", r'\\g<1> not', text, flags = flags)\n",
    "    text = re.sub(r\"\\b(could|had|he|i|may|might|must|should|these|they|those|to|we|what|where|which|who|would|you)'?ve\\b\", r'\\g<1> have', text, flags = flags)\n",
    "    text = re.sub(r\"\\b(how|so|that|there|these|they|those|we|what|where|which|who|why|you)'?re\\b\", r'\\g<1> are', text, flags = flags)\n",
    "    text = re.sub(r\"\\b(I|it|she|that|there|they|we|which|you)'?d\\b\", r'\\g<1> had', text, flags = flags)\n",
    "    text = re.sub(r\"\\b(how|what|where|who|why)'?d\\b\", r'\\g<1> did', text, flags = flags)\n",
    "    \n",
    "    return text\n",
    "\n"
   ]
  },
  {
   "cell_type": "code",
   "execution_count": 76,
   "metadata": {},
   "outputs": [
    {
     "output_type": "execute_result",
     "data": {
      "text/plain": [
       "{'.': '. ', '?': '? ', '!': '! ', ',': ', ', ':': ': '}"
      ]
     },
     "metadata": {},
     "execution_count": 76
    }
   ],
   "source": [
    "def to_dict(lst):\n",
    "    dict = {lst[i]: lst[i] for i in range(0, len(lst))}\n",
    "    return dict\n",
    "\n",
    "sentence_ends = ['.', '?', '!', ',', ':']\n",
    "sent_end_dict = to_dict(sentence_ends)\n",
    "\n",
    "for char in sentence_ends:\n",
    "    sent_end_dict[char] = char + \" \"\n",
    "\n",
    "sent_end_dict"
   ]
  },
  {
   "cell_type": "code",
   "execution_count": 77,
   "metadata": {},
   "outputs": [],
   "source": [
    "def clean_text(text):\n",
    "    # Expand contractions\n",
    "    text = expand_contractions(text)\n",
    "\n",
    "    # Add \" \" after sentence end & chars specified in sent_end_dict\n",
    "    table = str.maketrans(sent_end_dict)\n",
    "    text = text.translate(table)\n",
    "\n",
    "    # Lowercase\n",
    "    # text = text.lower()\n",
    "\n",
    "    # Remove punctuation\n",
    "    table = str.maketrans(' ', ' ', string.punctuation)\n",
    "    text = text.translate(table)\n",
    "\n",
    "    # Remove non-alpha chars\n",
    "    text = ' '.join(word for word in text.split() if word.isalpha())\n",
    "\n",
    "    return text"
   ]
  },
  {
   "cell_type": "code",
   "execution_count": 78,
   "metadata": {},
   "outputs": [],
   "source": [
    "import spacy"
   ]
  },
  {
   "cell_type": "code",
   "execution_count": 79,
   "metadata": {},
   "outputs": [],
   "source": [
    "nlp = spacy.load(\"en_core_web_sm\", disable=['ner', 'lemmatizer'])"
   ]
  },
  {
   "cell_type": "code",
   "execution_count": 13,
   "metadata": {},
   "outputs": [],
   "source": [
    "from spacy.language import Language\n",
    "from spacy.tokens import Doc\n",
    "\n",
    "@Language.factory(\"custom_cleaner\")\n",
    "def create_cleaner_component(nlp: Language, name: str):\n",
    "    return CleanerComponent(nlp)\n",
    "\n",
    "class CleanerComponent:\n",
    "    def __init__(self, nlp: Language):\n",
    "        self.nlp = nlp\n",
    "\n",
    "    def __call__(self, doc: Doc) -> Doc:\n",
    "        text = doc.text\n",
    "        return self.nlp.make_doc(clean_text(text))"
   ]
  },
  {
   "cell_type": "code",
   "execution_count": 80,
   "metadata": {},
   "outputs": [
    {
     "output_type": "execute_result",
     "data": {
      "text/plain": [
       "[('tok2vec', <spacy.pipeline.tok2vec.Tok2Vec at 0x7f402d62bcc0>),\n",
       " ('tagger', <spacy.pipeline.tagger.Tagger at 0x7f402d62c9a0>),\n",
       " ('parser', <spacy.pipeline.dep_parser.DependencyParser at 0x7f40eb303760>),\n",
       " ('attribute_ruler',\n",
       "  <spacy.pipeline.attributeruler.AttributeRuler at 0x7f4060882340>)]"
      ]
     },
     "metadata": {},
     "execution_count": 80
    }
   ],
   "source": [
    "nlp.pipeline"
   ]
  },
  {
   "cell_type": "code",
   "execution_count": 81,
   "metadata": {},
   "outputs": [
    {
     "output_type": "execute_result",
     "data": {
      "text/plain": [
       "[('custom_cleaner', <__main__.CleanerComponent at 0x7f402d7c6250>),\n",
       " ('tok2vec', <spacy.pipeline.tok2vec.Tok2Vec at 0x7f402d62bcc0>),\n",
       " ('tagger', <spacy.pipeline.tagger.Tagger at 0x7f402d62c9a0>),\n",
       " ('parser', <spacy.pipeline.dep_parser.DependencyParser at 0x7f40eb303760>),\n",
       " ('attribute_ruler',\n",
       "  <spacy.pipeline.attributeruler.AttributeRuler at 0x7f4060882340>)]"
      ]
     },
     "metadata": {},
     "execution_count": 81
    }
   ],
   "source": [
    "\n",
    "nlp.add_pipe(\"custom_cleaner\", before = 'tok2vec')\n",
    "nlp.pipeline\n",
    "\n"
   ]
  },
  {
   "cell_type": "code",
   "execution_count": 82,
   "metadata": {
    "tags": []
   },
   "outputs": [],
   "source": [
    "clean_body = []\n",
    "\n",
    "# Ryzen 4500U 6-core beast power\n",
    "for doc in nlp.pipe(dataset['body'], batch_size=500, n_process=6):\n",
    "    if doc.has_annotation(\"DEP\"):\n",
    "        arr = [str(n.text) for n in doc]\n",
    "        joke = ' '.join(arr)\n",
    "        clean_body.append(joke)\n",
    "    else:\n",
    "        clean_body.append(None)\n",
    "\n",
    "dataset['body'] = clean_body"
   ]
  },
  {
   "cell_type": "code",
   "execution_count": 83,
   "metadata": {},
   "outputs": [
    {
     "output_type": "execute_result",
     "data": {
      "text/plain": [
       "'A blonde is terribly overweight so her doctor puts her on a diet I want you to eat regularly for days then skip a day and repeat this procedure for weeks The next time I see you you will have lost at least pounds When the blonde returned she shocked the doctor by losing nearly pounds Why that is amazing the doctor said Did you follow my instructions The blonde nodded I will tell you though I thought I was going to drop dead that day From hunger you mean asked the doctor No from all that skipping'"
      ]
     },
     "metadata": {},
     "execution_count": 83
    }
   ],
   "source": [
    "dataset['body'][120]"
   ]
  },
  {
   "cell_type": "code",
   "execution_count": 84,
   "metadata": {},
   "outputs": [
    {
     "output_type": "execute_result",
     "data": {
      "text/plain": [
       "0       A man visits the doctor The doctor says I have...\n",
       "1       This couple had an excellent relationship goin...\n",
       "2       Q What is feet long and has teeth A The front ...\n",
       "3       Q What is the difference between a man and a t...\n",
       "4       Q What is O J Simpsons Internet address A Slas...\n",
       "                              ...                        \n",
       "3269    Britain decided it was time to switch left lan...\n",
       "3270    Examples of unclear writing Sentences taken fr...\n",
       "3271    The Pope and the Queen of England are on the s...\n",
       "3272    Letter to Xerox and the Reply Dear Kings of Ko...\n",
       "3273    Note Tradewars is on online roleplaying game w...\n",
       "Name: body, Length: 3274, dtype: object"
      ]
     },
     "metadata": {},
     "execution_count": 84
    }
   ],
   "source": [
    "train_cleaned = dataset['body']\n",
    "train_cleaned"
   ]
  },
  {
   "cell_type": "code",
   "execution_count": 85,
   "metadata": {},
   "outputs": [],
   "source": [
    "train_vec = []\n",
    "for doc in nlp.pipe(train_cleaned, batch_size=500, n_process=6):\n",
    "    if doc.has_vector:\n",
    "        train_vec.append(doc.vector)\n",
    "    # If doc doesn't have a vector, then fill it with zeros.\n",
    "    else:\n",
    "        train_vec.append(np.zeros((96,), dtype=\"float32\"))\n",
    "        \n",
    "train_vec = np.array(train_vec)\n"
   ]
  },
  {
   "cell_type": "code",
   "execution_count": 86,
   "metadata": {},
   "outputs": [
    {
     "output_type": "execute_result",
     "data": {
      "text/plain": [
       "(3274, 96)"
      ]
     },
     "metadata": {},
     "execution_count": 86
    }
   ],
   "source": [
    "train_vec.shape"
   ]
  },
  {
   "cell_type": "code",
   "execution_count": 87,
   "metadata": {},
   "outputs": [
    {
     "output_type": "stream",
     "name": "stdout",
     "text": [
      "y_train_ohe shape: (3274, 5)\ny_train_ohe samples:\n[[0 0 1 0 0]\n [0 0 1 0 0]\n [0 0 1 0 0]\n [0 0 1 0 0]\n [0 0 1 0 0]]\n"
     ]
    }
   ],
   "source": [
    "from sklearn.preprocessing import label_binarize\n",
    "\n",
    "# Transform labels into one hot encoded format.\n",
    "y_train_ohe = label_binarize(dataset['rating_text'], classes=['terrible', 'not good', 'ok', 'funny', 'very funny'])\n",
    "print('y_train_ohe shape: {}'.format(y_train_ohe.shape))\n",
    "print('y_train_ohe samples:')\n",
    "print(y_train_ohe[:5])\n",
    "\n"
   ]
  },
  {
   "cell_type": "code",
   "execution_count": 88,
   "metadata": {},
   "outputs": [
    {
     "output_type": "stream",
     "name": "stdout",
     "text": [
      "X_train size: (2619, 96)\nX_test size: (655, 96)\ny_train size: (2619, 5)\ny_test size: (655, 5)\n"
     ]
    }
   ],
   "source": [
    "from sklearn.model_selection import train_test_split\n",
    "\n",
    "# If using spaCy word vectors\n",
    "X_train, X_test, y_train, y_test = train_test_split(train_vec, y_train_ohe, test_size=0.2, random_state=21)\n",
    "\n",
    "print('X_train size: {}'.format(X_train.shape))\n",
    "print('X_test size: {}'.format(X_test.shape))\n",
    "print('y_train size: {}'.format(y_train.shape))\n",
    "print('y_test size: {}'.format(y_test.shape))"
   ]
  },
  {
   "cell_type": "code",
   "execution_count": 89,
   "metadata": {},
   "outputs": [],
   "source": [
    "from keras.models import Sequential, Model\n",
    "from keras.layers import Dense, Dropout, Input, LSTM, Embedding, Bidirectional, Flatten\n",
    "from keras.layers import Conv1D, MaxPooling1D, GlobalMaxPooling1D\n",
    "from keras.optimizers import SGD\n",
    "\n",
    "def build_model():\n",
    "    model = Sequential()\n",
    "    # Densely Connected Neural Network (Multi-Layer Perceptron)\n",
    "    model.add(Dense(512, activation='relu', kernel_initializer='he_normal', input_dim=96))\n",
    "    model.add(Dropout(0.2))\n",
    "    model.add(Dense(512, activation='relu', kernel_initializer='he_normal'))\n",
    "    model.add(Dropout(0.2))\n",
    "    model.add(Dense(512, activation='relu', kernel_initializer='he_normal'))\n",
    "    model.add(Dropout(0.2))\n",
    "    model.add(Dense(512, activation='relu', kernel_initializer='he_normal'))\n",
    "    model.add(Dropout(0.2))\n",
    "    model.add(Dense(5, activation='softmax'))\n",
    "    return model"
   ]
  },
  {
   "cell_type": "code",
   "execution_count": 90,
   "metadata": {},
   "outputs": [],
   "source": [
    "model = build_model()\n",
    "# Compile the model\n",
    "sgd = SGD(lr=0.01, decay=1e-6, momentum=0.9, nesterov=True)\n",
    "model.compile(optimizer=sgd, loss='categorical_crossentropy', metrics=['acc'])"
   ]
  },
  {
   "cell_type": "code",
   "execution_count": 91,
   "metadata": {},
   "outputs": [
    {
     "output_type": "stream",
     "name": "stdout",
     "text": [
      "Epoch 1/100\n",
      "17/17 [==============================] - 1s 20ms/step - loss: 1.5941 - acc: 0.2605 - val_loss: 1.5326 - val_acc: 0.2805\n",
      "Epoch 2/100\n",
      "17/17 [==============================] - 0s 12ms/step - loss: 1.5566 - acc: 0.2732 - val_loss: 1.5172 - val_acc: 0.2882\n",
      "Epoch 3/100\n",
      "17/17 [==============================] - 0s 11ms/step - loss: 1.5413 - acc: 0.2921 - val_loss: 1.5369 - val_acc: 0.2824\n",
      "Epoch 4/100\n",
      "17/17 [==============================] - 0s 13ms/step - loss: 1.5285 - acc: 0.3262 - val_loss: 1.5033 - val_acc: 0.2901\n",
      "Epoch 5/100\n",
      "17/17 [==============================] - 0s 11ms/step - loss: 1.5202 - acc: 0.2945 - val_loss: 1.5043 - val_acc: 0.2786\n",
      "Epoch 6/100\n",
      "17/17 [==============================] - 0s 12ms/step - loss: 1.5364 - acc: 0.3000 - val_loss: 1.5377 - val_acc: 0.2805\n",
      "Epoch 7/100\n",
      "17/17 [==============================] - 0s 12ms/step - loss: 1.5179 - acc: 0.3344 - val_loss: 1.5078 - val_acc: 0.2844\n",
      "Epoch 8/100\n",
      "17/17 [==============================] - 0s 12ms/step - loss: 1.5044 - acc: 0.3209 - val_loss: 1.5085 - val_acc: 0.2786\n",
      "Epoch 9/100\n",
      "17/17 [==============================] - 0s 12ms/step - loss: 1.5064 - acc: 0.3352 - val_loss: 1.5068 - val_acc: 0.2805\n",
      "Epoch 10/100\n",
      "17/17 [==============================] - 0s 12ms/step - loss: 1.5120 - acc: 0.3338 - val_loss: 1.5041 - val_acc: 0.2844\n",
      "Epoch 11/100\n",
      "17/17 [==============================] - 0s 14ms/step - loss: 1.5153 - acc: 0.3097 - val_loss: 1.5116 - val_acc: 0.2824\n",
      "Epoch 12/100\n",
      "17/17 [==============================] - 0s 13ms/step - loss: 1.5004 - acc: 0.3392 - val_loss: 1.5063 - val_acc: 0.2882\n",
      "Epoch 13/100\n",
      "17/17 [==============================] - 0s 12ms/step - loss: 1.4948 - acc: 0.3449 - val_loss: 1.5057 - val_acc: 0.2786\n",
      "Epoch 14/100\n",
      "17/17 [==============================] - 0s 14ms/step - loss: 1.4983 - acc: 0.3359 - val_loss: 1.5159 - val_acc: 0.2824\n",
      "Epoch 15/100\n",
      "17/17 [==============================] - 0s 14ms/step - loss: 1.4942 - acc: 0.3472 - val_loss: 1.5075 - val_acc: 0.2863\n",
      "Epoch 16/100\n",
      "17/17 [==============================] - 0s 15ms/step - loss: 1.4947 - acc: 0.3301 - val_loss: 1.5096 - val_acc: 0.2882\n",
      "Epoch 17/100\n",
      "17/17 [==============================] - 0s 14ms/step - loss: 1.4830 - acc: 0.3227 - val_loss: 1.5161 - val_acc: 0.2805\n",
      "Epoch 18/100\n",
      "17/17 [==============================] - 0s 14ms/step - loss: 1.4817 - acc: 0.3452 - val_loss: 1.5073 - val_acc: 0.2958\n",
      "Epoch 19/100\n",
      "17/17 [==============================] - 0s 11ms/step - loss: 1.4834 - acc: 0.3395 - val_loss: 1.5070 - val_acc: 0.2920\n",
      "Epoch 20/100\n",
      "17/17 [==============================] - 0s 14ms/step - loss: 1.4752 - acc: 0.3472 - val_loss: 1.5133 - val_acc: 0.2844\n",
      "Epoch 21/100\n",
      "17/17 [==============================] - 0s 12ms/step - loss: 1.4752 - acc: 0.3390 - val_loss: 1.5097 - val_acc: 0.2901\n",
      "Epoch 22/100\n",
      "17/17 [==============================] - 0s 12ms/step - loss: 1.4694 - acc: 0.3429 - val_loss: 1.5094 - val_acc: 0.2939\n",
      "Epoch 23/100\n",
      "17/17 [==============================] - 0s 11ms/step - loss: 1.4678 - acc: 0.3512 - val_loss: 1.5096 - val_acc: 0.2863\n",
      "Epoch 24/100\n",
      "17/17 [==============================] - 0s 12ms/step - loss: 1.4654 - acc: 0.3644 - val_loss: 1.5158 - val_acc: 0.2748\n",
      "Epoch 25/100\n",
      "17/17 [==============================] - 0s 12ms/step - loss: 1.4580 - acc: 0.3550 - val_loss: 1.5154 - val_acc: 0.2805\n",
      "Epoch 26/100\n",
      "17/17 [==============================] - 0s 12ms/step - loss: 1.4768 - acc: 0.3403 - val_loss: 1.5217 - val_acc: 0.2863\n",
      "Epoch 27/100\n",
      "17/17 [==============================] - 0s 12ms/step - loss: 1.4676 - acc: 0.3502 - val_loss: 1.5174 - val_acc: 0.2844\n",
      "Epoch 28/100\n",
      "17/17 [==============================] - 0s 12ms/step - loss: 1.4637 - acc: 0.3716 - val_loss: 1.5220 - val_acc: 0.2824\n",
      "Epoch 29/100\n",
      "17/17 [==============================] - 0s 11ms/step - loss: 1.4647 - acc: 0.3502 - val_loss: 1.5176 - val_acc: 0.2920\n",
      "Epoch 30/100\n",
      "17/17 [==============================] - 0s 13ms/step - loss: 1.4569 - acc: 0.3646 - val_loss: 1.5299 - val_acc: 0.2882\n",
      "Epoch 31/100\n",
      "17/17 [==============================] - 0s 14ms/step - loss: 1.4420 - acc: 0.3784 - val_loss: 1.5239 - val_acc: 0.2863\n",
      "Epoch 32/100\n",
      "17/17 [==============================] - 0s 13ms/step - loss: 1.4484 - acc: 0.3762 - val_loss: 1.5241 - val_acc: 0.2920\n",
      "Epoch 33/100\n",
      "17/17 [==============================] - 0s 13ms/step - loss: 1.4591 - acc: 0.3569 - val_loss: 1.5226 - val_acc: 0.2958\n",
      "Epoch 34/100\n",
      "17/17 [==============================] - 0s 13ms/step - loss: 1.4315 - acc: 0.3789 - val_loss: 1.5308 - val_acc: 0.2977\n",
      "Epoch 35/100\n",
      "17/17 [==============================] - 0s 14ms/step - loss: 1.4288 - acc: 0.3738 - val_loss: 1.5325 - val_acc: 0.2977\n",
      "Epoch 36/100\n",
      "17/17 [==============================] - 0s 13ms/step - loss: 1.4272 - acc: 0.3717 - val_loss: 1.5284 - val_acc: 0.3111\n",
      "Epoch 37/100\n",
      "17/17 [==============================] - 0s 13ms/step - loss: 1.4441 - acc: 0.3582 - val_loss: 1.5408 - val_acc: 0.2958\n",
      "Epoch 38/100\n",
      "17/17 [==============================] - 0s 14ms/step - loss: 1.4307 - acc: 0.3669 - val_loss: 1.5412 - val_acc: 0.2863\n",
      "Epoch 39/100\n",
      "17/17 [==============================] - 0s 12ms/step - loss: 1.4117 - acc: 0.3860 - val_loss: 1.5410 - val_acc: 0.2977\n",
      "Epoch 40/100\n",
      "17/17 [==============================] - 0s 12ms/step - loss: 1.4112 - acc: 0.3786 - val_loss: 1.5467 - val_acc: 0.2958\n",
      "Epoch 41/100\n",
      "17/17 [==============================] - 0s 13ms/step - loss: 1.3932 - acc: 0.4126 - val_loss: 1.5367 - val_acc: 0.3073\n",
      "Epoch 42/100\n",
      "17/17 [==============================] - 0s 13ms/step - loss: 1.4020 - acc: 0.3839 - val_loss: 1.5443 - val_acc: 0.2920\n",
      "Epoch 43/100\n",
      "17/17 [==============================] - 0s 11ms/step - loss: 1.3909 - acc: 0.4042 - val_loss: 1.5465 - val_acc: 0.2901\n",
      "Epoch 44/100\n",
      "17/17 [==============================] - 0s 11ms/step - loss: 1.4145 - acc: 0.4194 - val_loss: 1.5520 - val_acc: 0.2996\n",
      "Epoch 45/100\n",
      "17/17 [==============================] - 0s 12ms/step - loss: 1.3834 - acc: 0.4095 - val_loss: 1.5604 - val_acc: 0.2863\n",
      "Epoch 46/100\n",
      "17/17 [==============================] - 0s 12ms/step - loss: 1.3742 - acc: 0.4023 - val_loss: 1.5649 - val_acc: 0.2958\n",
      "Epoch 47/100\n",
      "17/17 [==============================] - 0s 11ms/step - loss: 1.3888 - acc: 0.4077 - val_loss: 1.5695 - val_acc: 0.3015\n",
      "Epoch 48/100\n",
      "17/17 [==============================] - 0s 12ms/step - loss: 1.3641 - acc: 0.4290 - val_loss: 1.5775 - val_acc: 0.3034\n",
      "Epoch 49/100\n",
      "17/17 [==============================] - 0s 12ms/step - loss: 1.3659 - acc: 0.4105 - val_loss: 1.5704 - val_acc: 0.2844\n",
      "Epoch 50/100\n",
      "17/17 [==============================] - 0s 11ms/step - loss: 1.3696 - acc: 0.4201 - val_loss: 1.5748 - val_acc: 0.2920\n",
      "Epoch 51/100\n",
      "17/17 [==============================] - 0s 12ms/step - loss: 1.3611 - acc: 0.4206 - val_loss: 1.5797 - val_acc: 0.3015\n",
      "Epoch 52/100\n",
      "17/17 [==============================] - 0s 12ms/step - loss: 1.3584 - acc: 0.4237 - val_loss: 1.5886 - val_acc: 0.2901\n",
      "Epoch 53/100\n",
      "17/17 [==============================] - 0s 12ms/step - loss: 1.3638 - acc: 0.4222 - val_loss: 1.5814 - val_acc: 0.2958\n",
      "Epoch 54/100\n",
      "17/17 [==============================] - 0s 12ms/step - loss: 1.3266 - acc: 0.4384 - val_loss: 1.5937 - val_acc: 0.2996\n",
      "Epoch 55/100\n",
      "17/17 [==============================] - 0s 12ms/step - loss: 1.3187 - acc: 0.4347 - val_loss: 1.6079 - val_acc: 0.2748\n",
      "Epoch 56/100\n",
      "17/17 [==============================] - 0s 12ms/step - loss: 1.3177 - acc: 0.4457 - val_loss: 1.5915 - val_acc: 0.2920\n",
      "Epoch 57/100\n",
      "17/17 [==============================] - 0s 12ms/step - loss: 1.3450 - acc: 0.4226 - val_loss: 1.5971 - val_acc: 0.2977\n",
      "Epoch 58/100\n",
      "17/17 [==============================] - 0s 12ms/step - loss: 1.3185 - acc: 0.4548 - val_loss: 1.6078 - val_acc: 0.2977\n",
      "Epoch 59/100\n",
      "17/17 [==============================] - 0s 12ms/step - loss: 1.3045 - acc: 0.4590 - val_loss: 1.6158 - val_acc: 0.2748\n",
      "Epoch 60/100\n",
      "17/17 [==============================] - 0s 12ms/step - loss: 1.2900 - acc: 0.4743 - val_loss: 1.6219 - val_acc: 0.3034\n",
      "Epoch 61/100\n",
      "17/17 [==============================] - 0s 12ms/step - loss: 1.2826 - acc: 0.4654 - val_loss: 1.6327 - val_acc: 0.2748\n",
      "Epoch 62/100\n",
      "17/17 [==============================] - 0s 12ms/step - loss: 1.2894 - acc: 0.4615 - val_loss: 1.6196 - val_acc: 0.2863\n",
      "Epoch 63/100\n",
      "17/17 [==============================] - 0s 12ms/step - loss: 1.2959 - acc: 0.4511 - val_loss: 1.6365 - val_acc: 0.3034\n",
      "Epoch 64/100\n",
      "17/17 [==============================] - 0s 12ms/step - loss: 1.2829 - acc: 0.4542 - val_loss: 1.6686 - val_acc: 0.2805\n",
      "Epoch 65/100\n",
      "17/17 [==============================] - 0s 12ms/step - loss: 1.2821 - acc: 0.4761 - val_loss: 1.6462 - val_acc: 0.2805\n",
      "Epoch 66/100\n",
      "17/17 [==============================] - 0s 12ms/step - loss: 1.2542 - acc: 0.4818 - val_loss: 1.6782 - val_acc: 0.2958\n",
      "Epoch 67/100\n",
      "17/17 [==============================] - 0s 12ms/step - loss: 1.2504 - acc: 0.4850 - val_loss: 1.6721 - val_acc: 0.2901\n",
      "Epoch 68/100\n",
      "17/17 [==============================] - 0s 12ms/step - loss: 1.2466 - acc: 0.4821 - val_loss: 1.6657 - val_acc: 0.2882\n",
      "Epoch 69/100\n",
      "17/17 [==============================] - 0s 12ms/step - loss: 1.2228 - acc: 0.5050 - val_loss: 1.6763 - val_acc: 0.2882\n",
      "Epoch 70/100\n",
      "17/17 [==============================] - 0s 12ms/step - loss: 1.2132 - acc: 0.5045 - val_loss: 1.7102 - val_acc: 0.2710\n",
      "Epoch 71/100\n",
      "17/17 [==============================] - 0s 11ms/step - loss: 1.2122 - acc: 0.5019 - val_loss: 1.6772 - val_acc: 0.2977\n",
      "Epoch 72/100\n",
      "17/17 [==============================] - 0s 14ms/step - loss: 1.2053 - acc: 0.4998 - val_loss: 1.6919 - val_acc: 0.2939\n",
      "Epoch 73/100\n",
      "17/17 [==============================] - 0s 13ms/step - loss: 1.1897 - acc: 0.5128 - val_loss: 1.7084 - val_acc: 0.2863\n",
      "Epoch 74/100\n",
      "17/17 [==============================] - 0s 12ms/step - loss: 1.1729 - acc: 0.5363 - val_loss: 1.7325 - val_acc: 0.2958\n",
      "Epoch 75/100\n",
      "17/17 [==============================] - 0s 14ms/step - loss: 1.1535 - acc: 0.5441 - val_loss: 1.7502 - val_acc: 0.2958\n",
      "Epoch 76/100\n",
      "17/17 [==============================] - 0s 12ms/step - loss: 1.1458 - acc: 0.5411 - val_loss: 1.7420 - val_acc: 0.2996\n",
      "Epoch 77/100\n",
      "17/17 [==============================] - 0s 12ms/step - loss: 1.1627 - acc: 0.5268 - val_loss: 1.7738 - val_acc: 0.2996\n",
      "Epoch 78/100\n",
      "17/17 [==============================] - 0s 13ms/step - loss: 1.1446 - acc: 0.5186 - val_loss: 1.7517 - val_acc: 0.2824\n",
      "Epoch 79/100\n",
      "17/17 [==============================] - 0s 12ms/step - loss: 1.1252 - acc: 0.5446 - val_loss: 1.7430 - val_acc: 0.2920\n",
      "Epoch 80/100\n",
      "17/17 [==============================] - 0s 14ms/step - loss: 1.1151 - acc: 0.5445 - val_loss: 1.7606 - val_acc: 0.2805\n",
      "Epoch 81/100\n",
      "17/17 [==============================] - 0s 13ms/step - loss: 1.1505 - acc: 0.5262 - val_loss: 1.7769 - val_acc: 0.2977\n",
      "Epoch 82/100\n",
      "17/17 [==============================] - 0s 12ms/step - loss: 1.1093 - acc: 0.5616 - val_loss: 1.7736 - val_acc: 0.2939\n",
      "Epoch 83/100\n",
      "17/17 [==============================] - 0s 12ms/step - loss: 1.0635 - acc: 0.5705 - val_loss: 1.7945 - val_acc: 0.2863\n",
      "Epoch 84/100\n",
      "17/17 [==============================] - 0s 12ms/step - loss: 1.0990 - acc: 0.5535 - val_loss: 1.8412 - val_acc: 0.2939\n",
      "Epoch 85/100\n",
      "17/17 [==============================] - 0s 12ms/step - loss: 1.1244 - acc: 0.5456 - val_loss: 1.8314 - val_acc: 0.2786\n",
      "Epoch 86/100\n",
      "17/17 [==============================] - 0s 12ms/step - loss: 1.0519 - acc: 0.5796 - val_loss: 1.8422 - val_acc: 0.2805\n",
      "Epoch 87/100\n",
      "17/17 [==============================] - 0s 12ms/step - loss: 1.0711 - acc: 0.5632 - val_loss: 1.8607 - val_acc: 0.2767\n",
      "Epoch 88/100\n",
      "17/17 [==============================] - 0s 11ms/step - loss: 1.0127 - acc: 0.5994 - val_loss: 1.8540 - val_acc: 0.2958\n",
      "Epoch 89/100\n",
      "17/17 [==============================] - 0s 13ms/step - loss: 1.0614 - acc: 0.5750 - val_loss: 1.8740 - val_acc: 0.2863\n",
      "Epoch 90/100\n",
      "17/17 [==============================] - 0s 12ms/step - loss: 0.9995 - acc: 0.6131 - val_loss: 1.8684 - val_acc: 0.2748\n",
      "Epoch 91/100\n",
      "17/17 [==============================] - 0s 12ms/step - loss: 1.0055 - acc: 0.6019 - val_loss: 1.8827 - val_acc: 0.2977\n",
      "Epoch 92/100\n",
      "17/17 [==============================] - 0s 12ms/step - loss: 0.9677 - acc: 0.6329 - val_loss: 1.9282 - val_acc: 0.2920\n",
      "Epoch 93/100\n",
      "17/17 [==============================] - 0s 13ms/step - loss: 0.9914 - acc: 0.6055 - val_loss: 1.9254 - val_acc: 0.2920\n",
      "Epoch 94/100\n",
      "17/17 [==============================] - 0s 13ms/step - loss: 0.9189 - acc: 0.6382 - val_loss: 1.9622 - val_acc: 0.2805\n",
      "Epoch 95/100\n",
      "17/17 [==============================] - 0s 12ms/step - loss: 0.9641 - acc: 0.6181 - val_loss: 1.9656 - val_acc: 0.2767\n",
      "Epoch 96/100\n",
      "17/17 [==============================] - 0s 12ms/step - loss: 0.9477 - acc: 0.6244 - val_loss: 2.0084 - val_acc: 0.2729\n",
      "Epoch 97/100\n",
      "17/17 [==============================] - 0s 13ms/step - loss: 0.9353 - acc: 0.6301 - val_loss: 2.0194 - val_acc: 0.2729\n",
      "Epoch 98/100\n",
      "17/17 [==============================] - 0s 13ms/step - loss: 0.9156 - acc: 0.6226 - val_loss: 2.0037 - val_acc: 0.2729\n",
      "Epoch 99/100\n",
      "17/17 [==============================] - 0s 13ms/step - loss: 0.8951 - acc: 0.6493 - val_loss: 2.0730 - val_acc: 0.2824\n",
      "Epoch 100/100\n",
      "17/17 [==============================] - 0s 13ms/step - loss: 0.9037 - acc: 0.6332 - val_loss: 2.0598 - val_acc: 0.2844\n"
     ]
    }
   ],
   "source": [
    "# Define number of epochs\n",
    "epochs = 100\n",
    "\n",
    "# Fit the model to the training data\n",
    "estimator = model.fit(X_train, y_train,\n",
    "                      validation_split=0.2,\n",
    "                      epochs=epochs, batch_size=128, verbose=1, shuffle=True)"
   ]
  },
  {
   "cell_type": "code",
   "execution_count": 92,
   "metadata": {},
   "outputs": [
    {
     "output_type": "stream",
     "name": "stdout",
     "text": [
      "Training accuracy: 62.48% / Validation accuracy: 28.44%\n"
     ]
    }
   ],
   "source": [
    "print(\"Training accuracy: %.2f%% / Validation accuracy: %.2f%%\" % \n",
    "      (100*estimator.history['acc'][-1], 100*estimator.history['val_acc'][-1]))"
   ]
  },
  {
   "cell_type": "code",
   "execution_count": 93,
   "metadata": {},
   "outputs": [
    {
     "output_type": "display_data",
     "data": {
      "text/plain": "<Figure size 432x288 with 1 Axes>",
      "image/svg+xml": "<?xml version=\"1.0\" encoding=\"utf-8\" standalone=\"no\"?>\n<!DOCTYPE svg PUBLIC \"-//W3C//DTD SVG 1.1//EN\"\n  \"http://www.w3.org/Graphics/SVG/1.1/DTD/svg11.dtd\">\n<svg height=\"277.314375pt\" version=\"1.1\" viewBox=\"0 0 392.14375 277.314375\" width=\"392.14375pt\" xmlns=\"http://www.w3.org/2000/svg\" xmlns:xlink=\"http://www.w3.org/1999/xlink\">\n <metadata>\n  <rdf:RDF xmlns:cc=\"http://creativecommons.org/ns#\" xmlns:dc=\"http://purl.org/dc/elements/1.1/\" xmlns:rdf=\"http://www.w3.org/1999/02/22-rdf-syntax-ns#\">\n   <cc:Work>\n    <dc:type rdf:resource=\"http://purl.org/dc/dcmitype/StillImage\"/>\n    <dc:date>2021-04-17T19:27:38.728017</dc:date>\n    <dc:format>image/svg+xml</dc:format>\n    <dc:creator>\n     <cc:Agent>\n      <dc:title>Matplotlib v3.4.1, https://matplotlib.org/</dc:title>\n     </cc:Agent>\n    </dc:creator>\n   </cc:Work>\n  </rdf:RDF>\n </metadata>\n <defs>\n  <style type=\"text/css\">*{stroke-linecap:butt;stroke-linejoin:round;}</style>\n </defs>\n <g id=\"figure_1\">\n  <g id=\"patch_1\">\n   <path d=\"M 0 277.314375 \nL 392.14375 277.314375 \nL 392.14375 0 \nL 0 0 \nz\n\" style=\"fill:none;\"/>\n  </g>\n  <g id=\"axes_1\">\n   <g id=\"patch_2\">\n    <path d=\"M 50.14375 239.758125 \nL 384.94375 239.758125 \nL 384.94375 22.318125 \nL 50.14375 22.318125 \nz\n\" style=\"fill:#ffffff;\"/>\n   </g>\n   <g id=\"matplotlib.axis_1\">\n    <g id=\"xtick_1\">\n     <g id=\"line2d_1\">\n      <defs>\n       <path d=\"M 0 0 \nL 0 3.5 \n\" id=\"medc640546f\" style=\"stroke:#000000;stroke-width:0.8;\"/>\n      </defs>\n      <g>\n       <use style=\"stroke:#000000;stroke-width:0.8;\" x=\"65.361932\" xlink:href=\"#medc640546f\" y=\"239.758125\"/>\n      </g>\n     </g>\n     <g id=\"text_1\">\n      <!-- 0 -->\n      <g transform=\"translate(62.180682 254.356562)scale(0.1 -0.1)\">\n       <defs>\n        <path d=\"M 2034 4250 \nQ 1547 4250 1301 3770 \nQ 1056 3291 1056 2328 \nQ 1056 1369 1301 889 \nQ 1547 409 2034 409 \nQ 2525 409 2770 889 \nQ 3016 1369 3016 2328 \nQ 3016 3291 2770 3770 \nQ 2525 4250 2034 4250 \nz\nM 2034 4750 \nQ 2819 4750 3233 4129 \nQ 3647 3509 3647 2328 \nQ 3647 1150 3233 529 \nQ 2819 -91 2034 -91 \nQ 1250 -91 836 529 \nQ 422 1150 422 2328 \nQ 422 3509 836 4129 \nQ 1250 4750 2034 4750 \nz\n\" id=\"DejaVuSans-30\" transform=\"scale(0.015625)\"/>\n       </defs>\n       <use xlink:href=\"#DejaVuSans-30\"/>\n      </g>\n     </g>\n    </g>\n    <g id=\"xtick_2\">\n     <g id=\"line2d_2\">\n      <g>\n       <use style=\"stroke:#000000;stroke-width:0.8;\" x=\"126.849535\" xlink:href=\"#medc640546f\" y=\"239.758125\"/>\n      </g>\n     </g>\n     <g id=\"text_2\">\n      <!-- 20 -->\n      <g transform=\"translate(120.487035 254.356562)scale(0.1 -0.1)\">\n       <defs>\n        <path d=\"M 1228 531 \nL 3431 531 \nL 3431 0 \nL 469 0 \nL 469 531 \nQ 828 903 1448 1529 \nQ 2069 2156 2228 2338 \nQ 2531 2678 2651 2914 \nQ 2772 3150 2772 3378 \nQ 2772 3750 2511 3984 \nQ 2250 4219 1831 4219 \nQ 1534 4219 1204 4116 \nQ 875 4013 500 3803 \nL 500 4441 \nQ 881 4594 1212 4672 \nQ 1544 4750 1819 4750 \nQ 2544 4750 2975 4387 \nQ 3406 4025 3406 3419 \nQ 3406 3131 3298 2873 \nQ 3191 2616 2906 2266 \nQ 2828 2175 2409 1742 \nQ 1991 1309 1228 531 \nz\n\" id=\"DejaVuSans-32\" transform=\"scale(0.015625)\"/>\n       </defs>\n       <use xlink:href=\"#DejaVuSans-32\"/>\n       <use x=\"63.623047\" xlink:href=\"#DejaVuSans-30\"/>\n      </g>\n     </g>\n    </g>\n    <g id=\"xtick_3\">\n     <g id=\"line2d_3\">\n      <g>\n       <use style=\"stroke:#000000;stroke-width:0.8;\" x=\"188.337138\" xlink:href=\"#medc640546f\" y=\"239.758125\"/>\n      </g>\n     </g>\n     <g id=\"text_3\">\n      <!-- 40 -->\n      <g transform=\"translate(181.974638 254.356562)scale(0.1 -0.1)\">\n       <defs>\n        <path d=\"M 2419 4116 \nL 825 1625 \nL 2419 1625 \nL 2419 4116 \nz\nM 2253 4666 \nL 3047 4666 \nL 3047 1625 \nL 3713 1625 \nL 3713 1100 \nL 3047 1100 \nL 3047 0 \nL 2419 0 \nL 2419 1100 \nL 313 1100 \nL 313 1709 \nL 2253 4666 \nz\n\" id=\"DejaVuSans-34\" transform=\"scale(0.015625)\"/>\n       </defs>\n       <use xlink:href=\"#DejaVuSans-34\"/>\n       <use x=\"63.623047\" xlink:href=\"#DejaVuSans-30\"/>\n      </g>\n     </g>\n    </g>\n    <g id=\"xtick_4\">\n     <g id=\"line2d_4\">\n      <g>\n       <use style=\"stroke:#000000;stroke-width:0.8;\" x=\"249.824742\" xlink:href=\"#medc640546f\" y=\"239.758125\"/>\n      </g>\n     </g>\n     <g id=\"text_4\">\n      <!-- 60 -->\n      <g transform=\"translate(243.462242 254.356562)scale(0.1 -0.1)\">\n       <defs>\n        <path d=\"M 2113 2584 \nQ 1688 2584 1439 2293 \nQ 1191 2003 1191 1497 \nQ 1191 994 1439 701 \nQ 1688 409 2113 409 \nQ 2538 409 2786 701 \nQ 3034 994 3034 1497 \nQ 3034 2003 2786 2293 \nQ 2538 2584 2113 2584 \nz\nM 3366 4563 \nL 3366 3988 \nQ 3128 4100 2886 4159 \nQ 2644 4219 2406 4219 \nQ 1781 4219 1451 3797 \nQ 1122 3375 1075 2522 \nQ 1259 2794 1537 2939 \nQ 1816 3084 2150 3084 \nQ 2853 3084 3261 2657 \nQ 3669 2231 3669 1497 \nQ 3669 778 3244 343 \nQ 2819 -91 2113 -91 \nQ 1303 -91 875 529 \nQ 447 1150 447 2328 \nQ 447 3434 972 4092 \nQ 1497 4750 2381 4750 \nQ 2619 4750 2861 4703 \nQ 3103 4656 3366 4563 \nz\n\" id=\"DejaVuSans-36\" transform=\"scale(0.015625)\"/>\n       </defs>\n       <use xlink:href=\"#DejaVuSans-36\"/>\n       <use x=\"63.623047\" xlink:href=\"#DejaVuSans-30\"/>\n      </g>\n     </g>\n    </g>\n    <g id=\"xtick_5\">\n     <g id=\"line2d_5\">\n      <g>\n       <use style=\"stroke:#000000;stroke-width:0.8;\" x=\"311.312345\" xlink:href=\"#medc640546f\" y=\"239.758125\"/>\n      </g>\n     </g>\n     <g id=\"text_5\">\n      <!-- 80 -->\n      <g transform=\"translate(304.949845 254.356562)scale(0.1 -0.1)\">\n       <defs>\n        <path d=\"M 2034 2216 \nQ 1584 2216 1326 1975 \nQ 1069 1734 1069 1313 \nQ 1069 891 1326 650 \nQ 1584 409 2034 409 \nQ 2484 409 2743 651 \nQ 3003 894 3003 1313 \nQ 3003 1734 2745 1975 \nQ 2488 2216 2034 2216 \nz\nM 1403 2484 \nQ 997 2584 770 2862 \nQ 544 3141 544 3541 \nQ 544 4100 942 4425 \nQ 1341 4750 2034 4750 \nQ 2731 4750 3128 4425 \nQ 3525 4100 3525 3541 \nQ 3525 3141 3298 2862 \nQ 3072 2584 2669 2484 \nQ 3125 2378 3379 2068 \nQ 3634 1759 3634 1313 \nQ 3634 634 3220 271 \nQ 2806 -91 2034 -91 \nQ 1263 -91 848 271 \nQ 434 634 434 1313 \nQ 434 1759 690 2068 \nQ 947 2378 1403 2484 \nz\nM 1172 3481 \nQ 1172 3119 1398 2916 \nQ 1625 2713 2034 2713 \nQ 2441 2713 2670 2916 \nQ 2900 3119 2900 3481 \nQ 2900 3844 2670 4047 \nQ 2441 4250 2034 4250 \nQ 1625 4250 1398 4047 \nQ 1172 3844 1172 3481 \nz\n\" id=\"DejaVuSans-38\" transform=\"scale(0.015625)\"/>\n       </defs>\n       <use xlink:href=\"#DejaVuSans-38\"/>\n       <use x=\"63.623047\" xlink:href=\"#DejaVuSans-30\"/>\n      </g>\n     </g>\n    </g>\n    <g id=\"xtick_6\">\n     <g id=\"line2d_6\">\n      <g>\n       <use style=\"stroke:#000000;stroke-width:0.8;\" x=\"372.799948\" xlink:href=\"#medc640546f\" y=\"239.758125\"/>\n      </g>\n     </g>\n     <g id=\"text_6\">\n      <!-- 100 -->\n      <g transform=\"translate(363.256198 254.356562)scale(0.1 -0.1)\">\n       <defs>\n        <path d=\"M 794 531 \nL 1825 531 \nL 1825 4091 \nL 703 3866 \nL 703 4441 \nL 1819 4666 \nL 2450 4666 \nL 2450 531 \nL 3481 531 \nL 3481 0 \nL 794 0 \nL 794 531 \nz\n\" id=\"DejaVuSans-31\" transform=\"scale(0.015625)\"/>\n       </defs>\n       <use xlink:href=\"#DejaVuSans-31\"/>\n       <use x=\"63.623047\" xlink:href=\"#DejaVuSans-30\"/>\n       <use x=\"127.246094\" xlink:href=\"#DejaVuSans-30\"/>\n      </g>\n     </g>\n    </g>\n    <g id=\"text_7\">\n     <!-- epoch -->\n     <g transform=\"translate(202.315625 268.034687)scale(0.1 -0.1)\">\n      <defs>\n       <path d=\"M 3597 1894 \nL 3597 1613 \nL 953 1613 \nQ 991 1019 1311 708 \nQ 1631 397 2203 397 \nQ 2534 397 2845 478 \nQ 3156 559 3463 722 \nL 3463 178 \nQ 3153 47 2828 -22 \nQ 2503 -91 2169 -91 \nQ 1331 -91 842 396 \nQ 353 884 353 1716 \nQ 353 2575 817 3079 \nQ 1281 3584 2069 3584 \nQ 2775 3584 3186 3129 \nQ 3597 2675 3597 1894 \nz\nM 3022 2063 \nQ 3016 2534 2758 2815 \nQ 2500 3097 2075 3097 \nQ 1594 3097 1305 2825 \nQ 1016 2553 972 2059 \nL 3022 2063 \nz\n\" id=\"DejaVuSans-65\" transform=\"scale(0.015625)\"/>\n       <path d=\"M 1159 525 \nL 1159 -1331 \nL 581 -1331 \nL 581 3500 \nL 1159 3500 \nL 1159 2969 \nQ 1341 3281 1617 3432 \nQ 1894 3584 2278 3584 \nQ 2916 3584 3314 3078 \nQ 3713 2572 3713 1747 \nQ 3713 922 3314 415 \nQ 2916 -91 2278 -91 \nQ 1894 -91 1617 61 \nQ 1341 213 1159 525 \nz\nM 3116 1747 \nQ 3116 2381 2855 2742 \nQ 2594 3103 2138 3103 \nQ 1681 3103 1420 2742 \nQ 1159 2381 1159 1747 \nQ 1159 1113 1420 752 \nQ 1681 391 2138 391 \nQ 2594 391 2855 752 \nQ 3116 1113 3116 1747 \nz\n\" id=\"DejaVuSans-70\" transform=\"scale(0.015625)\"/>\n       <path d=\"M 1959 3097 \nQ 1497 3097 1228 2736 \nQ 959 2375 959 1747 \nQ 959 1119 1226 758 \nQ 1494 397 1959 397 \nQ 2419 397 2687 759 \nQ 2956 1122 2956 1747 \nQ 2956 2369 2687 2733 \nQ 2419 3097 1959 3097 \nz\nM 1959 3584 \nQ 2709 3584 3137 3096 \nQ 3566 2609 3566 1747 \nQ 3566 888 3137 398 \nQ 2709 -91 1959 -91 \nQ 1206 -91 779 398 \nQ 353 888 353 1747 \nQ 353 2609 779 3096 \nQ 1206 3584 1959 3584 \nz\n\" id=\"DejaVuSans-6f\" transform=\"scale(0.015625)\"/>\n       <path d=\"M 3122 3366 \nL 3122 2828 \nQ 2878 2963 2633 3030 \nQ 2388 3097 2138 3097 \nQ 1578 3097 1268 2742 \nQ 959 2388 959 1747 \nQ 959 1106 1268 751 \nQ 1578 397 2138 397 \nQ 2388 397 2633 464 \nQ 2878 531 3122 666 \nL 3122 134 \nQ 2881 22 2623 -34 \nQ 2366 -91 2075 -91 \nQ 1284 -91 818 406 \nQ 353 903 353 1747 \nQ 353 2603 823 3093 \nQ 1294 3584 2113 3584 \nQ 2378 3584 2631 3529 \nQ 2884 3475 3122 3366 \nz\n\" id=\"DejaVuSans-63\" transform=\"scale(0.015625)\"/>\n       <path d=\"M 3513 2113 \nL 3513 0 \nL 2938 0 \nL 2938 2094 \nQ 2938 2591 2744 2837 \nQ 2550 3084 2163 3084 \nQ 1697 3084 1428 2787 \nQ 1159 2491 1159 1978 \nL 1159 0 \nL 581 0 \nL 581 4863 \nL 1159 4863 \nL 1159 2956 \nQ 1366 3272 1645 3428 \nQ 1925 3584 2291 3584 \nQ 2894 3584 3203 3211 \nQ 3513 2838 3513 2113 \nz\n\" id=\"DejaVuSans-68\" transform=\"scale(0.015625)\"/>\n      </defs>\n      <use xlink:href=\"#DejaVuSans-65\"/>\n      <use x=\"61.523438\" xlink:href=\"#DejaVuSans-70\"/>\n      <use x=\"125\" xlink:href=\"#DejaVuSans-6f\"/>\n      <use x=\"186.181641\" xlink:href=\"#DejaVuSans-63\"/>\n      <use x=\"241.162109\" xlink:href=\"#DejaVuSans-68\"/>\n     </g>\n    </g>\n   </g>\n   <g id=\"matplotlib.axis_2\">\n    <g id=\"ytick_1\">\n     <g id=\"line2d_7\">\n      <defs>\n       <path d=\"M 0 0 \nL -3.5 0 \n\" id=\"m7af9171252\" style=\"stroke:#000000;stroke-width:0.8;\"/>\n      </defs>\n      <g>\n       <use style=\"stroke:#000000;stroke-width:0.8;\" x=\"50.14375\" xlink:href=\"#m7af9171252\" y=\"239.445358\"/>\n      </g>\n     </g>\n     <g id=\"text_8\">\n      <!-- 0.25 -->\n      <g transform=\"translate(20.878125 243.244577)scale(0.1 -0.1)\">\n       <defs>\n        <path d=\"M 684 794 \nL 1344 794 \nL 1344 0 \nL 684 0 \nL 684 794 \nz\n\" id=\"DejaVuSans-2e\" transform=\"scale(0.015625)\"/>\n        <path d=\"M 691 4666 \nL 3169 4666 \nL 3169 4134 \nL 1269 4134 \nL 1269 2991 \nQ 1406 3038 1543 3061 \nQ 1681 3084 1819 3084 \nQ 2600 3084 3056 2656 \nQ 3513 2228 3513 1497 \nQ 3513 744 3044 326 \nQ 2575 -91 1722 -91 \nQ 1428 -91 1123 -41 \nQ 819 9 494 109 \nL 494 744 \nQ 775 591 1075 516 \nQ 1375 441 1709 441 \nQ 2250 441 2565 725 \nQ 2881 1009 2881 1497 \nQ 2881 1984 2565 2268 \nQ 2250 2553 1709 2553 \nQ 1456 2553 1204 2497 \nQ 953 2441 691 2322 \nL 691 4666 \nz\n\" id=\"DejaVuSans-35\" transform=\"scale(0.015625)\"/>\n       </defs>\n       <use xlink:href=\"#DejaVuSans-30\"/>\n       <use x=\"63.623047\" xlink:href=\"#DejaVuSans-2e\"/>\n       <use x=\"95.410156\" xlink:href=\"#DejaVuSans-32\"/>\n       <use x=\"159.033203\" xlink:href=\"#DejaVuSans-35\"/>\n      </g>\n     </g>\n    </g>\n    <g id=\"ytick_2\">\n     <g id=\"line2d_8\">\n      <g>\n       <use style=\"stroke:#000000;stroke-width:0.8;\" x=\"50.14375\" xlink:href=\"#m7af9171252\" y=\"213.234953\"/>\n      </g>\n     </g>\n     <g id=\"text_9\">\n      <!-- 0.30 -->\n      <g transform=\"translate(20.878125 217.034172)scale(0.1 -0.1)\">\n       <defs>\n        <path d=\"M 2597 2516 \nQ 3050 2419 3304 2112 \nQ 3559 1806 3559 1356 \nQ 3559 666 3084 287 \nQ 2609 -91 1734 -91 \nQ 1441 -91 1130 -33 \nQ 819 25 488 141 \nL 488 750 \nQ 750 597 1062 519 \nQ 1375 441 1716 441 \nQ 2309 441 2620 675 \nQ 2931 909 2931 1356 \nQ 2931 1769 2642 2001 \nQ 2353 2234 1838 2234 \nL 1294 2234 \nL 1294 2753 \nL 1863 2753 \nQ 2328 2753 2575 2939 \nQ 2822 3125 2822 3475 \nQ 2822 3834 2567 4026 \nQ 2313 4219 1838 4219 \nQ 1578 4219 1281 4162 \nQ 984 4106 628 3988 \nL 628 4550 \nQ 988 4650 1302 4700 \nQ 1616 4750 1894 4750 \nQ 2613 4750 3031 4423 \nQ 3450 4097 3450 3541 \nQ 3450 3153 3228 2886 \nQ 3006 2619 2597 2516 \nz\n\" id=\"DejaVuSans-33\" transform=\"scale(0.015625)\"/>\n       </defs>\n       <use xlink:href=\"#DejaVuSans-30\"/>\n       <use x=\"63.623047\" xlink:href=\"#DejaVuSans-2e\"/>\n       <use x=\"95.410156\" xlink:href=\"#DejaVuSans-33\"/>\n       <use x=\"159.033203\" xlink:href=\"#DejaVuSans-30\"/>\n      </g>\n     </g>\n    </g>\n    <g id=\"ytick_3\">\n     <g id=\"line2d_9\">\n      <g>\n       <use style=\"stroke:#000000;stroke-width:0.8;\" x=\"50.14375\" xlink:href=\"#m7af9171252\" y=\"187.024549\"/>\n      </g>\n     </g>\n     <g id=\"text_10\">\n      <!-- 0.35 -->\n      <g transform=\"translate(20.878125 190.823767)scale(0.1 -0.1)\">\n       <use xlink:href=\"#DejaVuSans-30\"/>\n       <use x=\"63.623047\" xlink:href=\"#DejaVuSans-2e\"/>\n       <use x=\"95.410156\" xlink:href=\"#DejaVuSans-33\"/>\n       <use x=\"159.033203\" xlink:href=\"#DejaVuSans-35\"/>\n      </g>\n     </g>\n    </g>\n    <g id=\"ytick_4\">\n     <g id=\"line2d_10\">\n      <g>\n       <use style=\"stroke:#000000;stroke-width:0.8;\" x=\"50.14375\" xlink:href=\"#m7af9171252\" y=\"160.814144\"/>\n      </g>\n     </g>\n     <g id=\"text_11\">\n      <!-- 0.40 -->\n      <g transform=\"translate(20.878125 164.613363)scale(0.1 -0.1)\">\n       <use xlink:href=\"#DejaVuSans-30\"/>\n       <use x=\"63.623047\" xlink:href=\"#DejaVuSans-2e\"/>\n       <use x=\"95.410156\" xlink:href=\"#DejaVuSans-34\"/>\n       <use x=\"159.033203\" xlink:href=\"#DejaVuSans-30\"/>\n      </g>\n     </g>\n    </g>\n    <g id=\"ytick_5\">\n     <g id=\"line2d_11\">\n      <g>\n       <use style=\"stroke:#000000;stroke-width:0.8;\" x=\"50.14375\" xlink:href=\"#m7af9171252\" y=\"134.603739\"/>\n      </g>\n     </g>\n     <g id=\"text_12\">\n      <!-- 0.45 -->\n      <g transform=\"translate(20.878125 138.402958)scale(0.1 -0.1)\">\n       <use xlink:href=\"#DejaVuSans-30\"/>\n       <use x=\"63.623047\" xlink:href=\"#DejaVuSans-2e\"/>\n       <use x=\"95.410156\" xlink:href=\"#DejaVuSans-34\"/>\n       <use x=\"159.033203\" xlink:href=\"#DejaVuSans-35\"/>\n      </g>\n     </g>\n    </g>\n    <g id=\"ytick_6\">\n     <g id=\"line2d_12\">\n      <g>\n       <use style=\"stroke:#000000;stroke-width:0.8;\" x=\"50.14375\" xlink:href=\"#m7af9171252\" y=\"108.393335\"/>\n      </g>\n     </g>\n     <g id=\"text_13\">\n      <!-- 0.50 -->\n      <g transform=\"translate(20.878125 112.192553)scale(0.1 -0.1)\">\n       <use xlink:href=\"#DejaVuSans-30\"/>\n       <use x=\"63.623047\" xlink:href=\"#DejaVuSans-2e\"/>\n       <use x=\"95.410156\" xlink:href=\"#DejaVuSans-35\"/>\n       <use x=\"159.033203\" xlink:href=\"#DejaVuSans-30\"/>\n      </g>\n     </g>\n    </g>\n    <g id=\"ytick_7\">\n     <g id=\"line2d_13\">\n      <g>\n       <use style=\"stroke:#000000;stroke-width:0.8;\" x=\"50.14375\" xlink:href=\"#m7af9171252\" y=\"82.18293\"/>\n      </g>\n     </g>\n     <g id=\"text_14\">\n      <!-- 0.55 -->\n      <g transform=\"translate(20.878125 85.982149)scale(0.1 -0.1)\">\n       <use xlink:href=\"#DejaVuSans-30\"/>\n       <use x=\"63.623047\" xlink:href=\"#DejaVuSans-2e\"/>\n       <use x=\"95.410156\" xlink:href=\"#DejaVuSans-35\"/>\n       <use x=\"159.033203\" xlink:href=\"#DejaVuSans-35\"/>\n      </g>\n     </g>\n    </g>\n    <g id=\"ytick_8\">\n     <g id=\"line2d_14\">\n      <g>\n       <use style=\"stroke:#000000;stroke-width:0.8;\" x=\"50.14375\" xlink:href=\"#m7af9171252\" y=\"55.972525\"/>\n      </g>\n     </g>\n     <g id=\"text_15\">\n      <!-- 0.60 -->\n      <g transform=\"translate(20.878125 59.771744)scale(0.1 -0.1)\">\n       <use xlink:href=\"#DejaVuSans-30\"/>\n       <use x=\"63.623047\" xlink:href=\"#DejaVuSans-2e\"/>\n       <use x=\"95.410156\" xlink:href=\"#DejaVuSans-36\"/>\n       <use x=\"159.033203\" xlink:href=\"#DejaVuSans-30\"/>\n      </g>\n     </g>\n    </g>\n    <g id=\"ytick_9\">\n     <g id=\"line2d_15\">\n      <g>\n       <use style=\"stroke:#000000;stroke-width:0.8;\" x=\"50.14375\" xlink:href=\"#m7af9171252\" y=\"29.762121\"/>\n      </g>\n     </g>\n     <g id=\"text_16\">\n      <!-- 0.65 -->\n      <g transform=\"translate(20.878125 33.561339)scale(0.1 -0.1)\">\n       <use xlink:href=\"#DejaVuSans-30\"/>\n       <use x=\"63.623047\" xlink:href=\"#DejaVuSans-2e\"/>\n       <use x=\"95.410156\" xlink:href=\"#DejaVuSans-36\"/>\n       <use x=\"159.033203\" xlink:href=\"#DejaVuSans-35\"/>\n      </g>\n     </g>\n    </g>\n    <g id=\"text_17\">\n     <!-- accuracy -->\n     <g transform=\"translate(14.798438 153.5975)rotate(-90)scale(0.1 -0.1)\">\n      <defs>\n       <path d=\"M 2194 1759 \nQ 1497 1759 1228 1600 \nQ 959 1441 959 1056 \nQ 959 750 1161 570 \nQ 1363 391 1709 391 \nQ 2188 391 2477 730 \nQ 2766 1069 2766 1631 \nL 2766 1759 \nL 2194 1759 \nz\nM 3341 1997 \nL 3341 0 \nL 2766 0 \nL 2766 531 \nQ 2569 213 2275 61 \nQ 1981 -91 1556 -91 \nQ 1019 -91 701 211 \nQ 384 513 384 1019 \nQ 384 1609 779 1909 \nQ 1175 2209 1959 2209 \nL 2766 2209 \nL 2766 2266 \nQ 2766 2663 2505 2880 \nQ 2244 3097 1772 3097 \nQ 1472 3097 1187 3025 \nQ 903 2953 641 2809 \nL 641 3341 \nQ 956 3463 1253 3523 \nQ 1550 3584 1831 3584 \nQ 2591 3584 2966 3190 \nQ 3341 2797 3341 1997 \nz\n\" id=\"DejaVuSans-61\" transform=\"scale(0.015625)\"/>\n       <path d=\"M 544 1381 \nL 544 3500 \nL 1119 3500 \nL 1119 1403 \nQ 1119 906 1312 657 \nQ 1506 409 1894 409 \nQ 2359 409 2629 706 \nQ 2900 1003 2900 1516 \nL 2900 3500 \nL 3475 3500 \nL 3475 0 \nL 2900 0 \nL 2900 538 \nQ 2691 219 2414 64 \nQ 2138 -91 1772 -91 \nQ 1169 -91 856 284 \nQ 544 659 544 1381 \nz\nM 1991 3584 \nL 1991 3584 \nz\n\" id=\"DejaVuSans-75\" transform=\"scale(0.015625)\"/>\n       <path d=\"M 2631 2963 \nQ 2534 3019 2420 3045 \nQ 2306 3072 2169 3072 \nQ 1681 3072 1420 2755 \nQ 1159 2438 1159 1844 \nL 1159 0 \nL 581 0 \nL 581 3500 \nL 1159 3500 \nL 1159 2956 \nQ 1341 3275 1631 3429 \nQ 1922 3584 2338 3584 \nQ 2397 3584 2469 3576 \nQ 2541 3569 2628 3553 \nL 2631 2963 \nz\n\" id=\"DejaVuSans-72\" transform=\"scale(0.015625)\"/>\n       <path d=\"M 2059 -325 \nQ 1816 -950 1584 -1140 \nQ 1353 -1331 966 -1331 \nL 506 -1331 \nL 506 -850 \nL 844 -850 \nQ 1081 -850 1212 -737 \nQ 1344 -625 1503 -206 \nL 1606 56 \nL 191 3500 \nL 800 3500 \nL 1894 763 \nL 2988 3500 \nL 3597 3500 \nL 2059 -325 \nz\n\" id=\"DejaVuSans-79\" transform=\"scale(0.015625)\"/>\n      </defs>\n      <use xlink:href=\"#DejaVuSans-61\"/>\n      <use x=\"61.279297\" xlink:href=\"#DejaVuSans-63\"/>\n      <use x=\"116.259766\" xlink:href=\"#DejaVuSans-63\"/>\n      <use x=\"171.240234\" xlink:href=\"#DejaVuSans-75\"/>\n      <use x=\"234.619141\" xlink:href=\"#DejaVuSans-72\"/>\n      <use x=\"275.732422\" xlink:href=\"#DejaVuSans-61\"/>\n      <use x=\"337.011719\" xlink:href=\"#DejaVuSans-63\"/>\n      <use x=\"391.992188\" xlink:href=\"#DejaVuSans-79\"/>\n     </g>\n    </g>\n   </g>\n   <g id=\"line2d_16\">\n    <path clip-path=\"url(#p51f3a7501f)\" d=\"M 65.361932 222.36793 \nL 68.436312 229.874489 \nL 71.510692 219.115097 \nL 74.585072 206.103721 \nL 77.659452 211.108099 \nL 80.733833 204.352192 \nL 83.808213 201.099344 \nL 86.882593 199.848253 \nL 89.956973 200.098481 \nL 93.031353 198.847374 \nL 96.105733 206.103721 \nL 99.180114 196.094982 \nL 102.254494 191.090604 \nL 105.328874 187.337317 \nL 108.403254 193.342573 \nL 111.477634 194.093224 \nL 114.552014 197.346072 \nL 117.626395 193.592785 \nL 120.700775 190.590164 \nL 123.775155 192.842134 \nL 126.849535 188.838635 \nL 129.923915 189.589286 \nL 132.998295 185.085347 \nL 136.072676 183.584045 \nL 139.147056 184.835135 \nL 142.221436 184.835135 \nL 145.295816 186.336453 \nL 148.370196 181.832515 \nL 151.444576 182.833394 \nL 154.518957 171.073108 \nL 157.593337 174.325956 \nL 160.667717 176.577925 \nL 163.742097 177.829016 \nL 166.816477 173.325077 \nL 169.890857 177.578788 \nL 172.965238 173.825517 \nL 176.039618 175.326819 \nL 179.113998 173.825517 \nL 182.188378 167.069609 \nL 185.262758 172.324199 \nL 188.337138 159.312838 \nL 191.411519 168.821139 \nL 194.485899 164.066989 \nL 197.560279 152.056491 \nL 200.634659 158.562172 \nL 203.709039 153.557809 \nL 206.783419 158.562172 \nL 209.8578 146.801902 \nL 212.93218 158.061732 \nL 216.00656 152.556931 \nL 219.08094 157.311081 \nL 222.15532 148.052992 \nL 225.2297 151.30584 \nL 228.304081 142.798403 \nL 231.378461 143.298842 \nL 234.452841 143.549054 \nL 237.527221 149.053871 \nL 240.601601 132.289223 \nL 243.675981 133.790526 \nL 246.750362 130.037254 \nL 249.824742 133.790526 \nL 252.899122 127.284846 \nL 255.973502 131.788784 \nL 259.047882 130.037254 \nL 262.122262 118.527196 \nL 265.196643 115.274348 \nL 268.271023 116.275227 \nL 271.345403 120.028499 \nL 274.419783 114.773909 \nL 277.494163 109.519319 \nL 280.568543 111.270849 \nL 283.642924 110.26997 \nL 286.717304 101.262109 \nL 289.791684 91.003142 \nL 292.866064 95.50708 \nL 295.940444 97.508838 \nL 299.014824 90.252475 \nL 302.089205 99.01014 \nL 305.163585 89.251596 \nL 308.237965 89.251596 \nL 311.312345 93.004899 \nL 314.386725 81.995265 \nL 317.461105 79.993508 \nL 320.535486 80.493962 \nL 323.609866 72.987388 \nL 326.684246 68.733693 \nL 329.758626 68.233238 \nL 332.833006 59.475573 \nL 335.907386 68.233238 \nL 338.981767 64.479966 \nL 342.056147 57.97427 \nL 345.130527 44.212243 \nL 348.204907 53.22012 \nL 351.279287 38.207002 \nL 354.353667 42.961153 \nL 357.428048 37.206124 \nL 360.502428 41.710062 \nL 363.576808 43.711819 \nL 366.651188 32.201761 \nL 369.725568 42.961153 \n\" style=\"fill:none;stroke:#1f77b4;stroke-linecap:square;stroke-width:1.5;\"/>\n   </g>\n   <g id=\"line2d_17\">\n    <path clip-path=\"url(#p51f3a7501f)\" d=\"M 65.361932 223.439001 \nL 68.436312 219.437408 \nL 71.510692 222.438606 \nL 74.585072 218.437013 \nL 77.659452 224.439395 \nL 80.733833 223.439001 \nL 83.808213 221.438212 \nL 86.882593 224.439395 \nL 89.956973 223.439001 \nL 93.031353 221.438212 \nL 96.105733 222.438606 \nL 99.180114 219.437408 \nL 102.254494 224.439395 \nL 105.328874 222.438606 \nL 108.403254 220.437818 \nL 111.477634 219.437408 \nL 114.552014 223.439001 \nL 117.626395 215.43583 \nL 120.700775 217.436619 \nL 123.775155 221.438212 \nL 126.849535 218.437013 \nL 129.923915 216.436225 \nL 132.998295 220.437818 \nL 136.072676 226.4402 \nL 139.147056 223.439001 \nL 142.221436 220.437818 \nL 145.295816 221.438212 \nL 148.370196 222.438606 \nL 151.444576 217.436619 \nL 154.518957 219.437408 \nL 157.593337 220.437818 \nL 160.667717 217.436619 \nL 163.742097 215.43583 \nL 166.816477 214.435436 \nL 169.890857 214.435436 \nL 172.965238 207.432644 \nL 176.039618 215.43583 \nL 179.113998 220.437818 \nL 182.188378 214.435436 \nL 185.262758 215.43583 \nL 188.337138 209.433448 \nL 191.411519 217.436619 \nL 194.485899 218.437013 \nL 197.560279 213.435026 \nL 200.634659 220.437818 \nL 203.709039 215.43583 \nL 206.783419 212.434631 \nL 209.8578 211.434237 \nL 212.93218 221.438212 \nL 216.00656 217.436619 \nL 219.08094 212.434631 \nL 222.15532 218.437013 \nL 225.2297 215.43583 \nL 228.304081 213.435026 \nL 231.378461 226.4402 \nL 234.452841 217.436619 \nL 237.527221 214.435436 \nL 240.601601 214.435436 \nL 243.675981 226.4402 \nL 246.750362 211.434237 \nL 249.824742 226.4402 \nL 252.899122 220.437818 \nL 255.973502 211.434237 \nL 259.047882 223.439001 \nL 262.122262 223.439001 \nL 265.196643 215.43583 \nL 268.271023 218.437013 \nL 271.345403 219.437408 \nL 274.419783 219.437408 \nL 277.494163 228.440988 \nL 280.568543 214.435436 \nL 283.642924 216.436225 \nL 286.717304 220.437818 \nL 289.791684 215.43583 \nL 292.866064 215.43583 \nL 295.940444 213.435026 \nL 299.014824 213.435026 \nL 302.089205 222.438606 \nL 305.163585 217.436619 \nL 308.237965 223.439001 \nL 311.312345 214.435436 \nL 314.386725 216.436225 \nL 317.461105 220.437818 \nL 320.535486 216.436225 \nL 323.609866 224.439395 \nL 326.684246 223.439001 \nL 329.758626 225.439805 \nL 332.833006 215.43583 \nL 335.907386 220.437818 \nL 338.981767 226.4402 \nL 342.056147 214.435436 \nL 345.130527 217.436619 \nL 348.204907 217.436619 \nL 351.279287 223.439001 \nL 354.353667 225.439805 \nL 357.428048 227.440594 \nL 360.502428 227.440594 \nL 363.576808 227.440594 \nL 366.651188 222.438606 \nL 369.725568 221.438212 \n\" style=\"fill:none;stroke:#ff7f0e;stroke-linecap:square;stroke-width:1.5;\"/>\n   </g>\n   <g id=\"patch_3\">\n    <path d=\"M 50.14375 239.758125 \nL 50.14375 22.318125 \n\" style=\"fill:none;stroke:#000000;stroke-linecap:square;stroke-linejoin:miter;stroke-width:0.8;\"/>\n   </g>\n   <g id=\"patch_4\">\n    <path d=\"M 384.94375 239.758125 \nL 384.94375 22.318125 \n\" style=\"fill:none;stroke:#000000;stroke-linecap:square;stroke-linejoin:miter;stroke-width:0.8;\"/>\n   </g>\n   <g id=\"patch_5\">\n    <path d=\"M 50.14375 239.758125 \nL 384.94375 239.758125 \n\" style=\"fill:none;stroke:#000000;stroke-linecap:square;stroke-linejoin:miter;stroke-width:0.8;\"/>\n   </g>\n   <g id=\"patch_6\">\n    <path d=\"M 50.14375 22.318125 \nL 384.94375 22.318125 \n\" style=\"fill:none;stroke:#000000;stroke-linecap:square;stroke-linejoin:miter;stroke-width:0.8;\"/>\n   </g>\n   <g id=\"text_18\">\n    <!-- model accuracy -->\n    <g transform=\"translate(169.882188 16.318125)scale(0.12 -0.12)\">\n     <defs>\n      <path d=\"M 3328 2828 \nQ 3544 3216 3844 3400 \nQ 4144 3584 4550 3584 \nQ 5097 3584 5394 3201 \nQ 5691 2819 5691 2113 \nL 5691 0 \nL 5113 0 \nL 5113 2094 \nQ 5113 2597 4934 2840 \nQ 4756 3084 4391 3084 \nQ 3944 3084 3684 2787 \nQ 3425 2491 3425 1978 \nL 3425 0 \nL 2847 0 \nL 2847 2094 \nQ 2847 2600 2669 2842 \nQ 2491 3084 2119 3084 \nQ 1678 3084 1418 2786 \nQ 1159 2488 1159 1978 \nL 1159 0 \nL 581 0 \nL 581 3500 \nL 1159 3500 \nL 1159 2956 \nQ 1356 3278 1631 3431 \nQ 1906 3584 2284 3584 \nQ 2666 3584 2933 3390 \nQ 3200 3197 3328 2828 \nz\n\" id=\"DejaVuSans-6d\" transform=\"scale(0.015625)\"/>\n      <path d=\"M 2906 2969 \nL 2906 4863 \nL 3481 4863 \nL 3481 0 \nL 2906 0 \nL 2906 525 \nQ 2725 213 2448 61 \nQ 2172 -91 1784 -91 \nQ 1150 -91 751 415 \nQ 353 922 353 1747 \nQ 353 2572 751 3078 \nQ 1150 3584 1784 3584 \nQ 2172 3584 2448 3432 \nQ 2725 3281 2906 2969 \nz\nM 947 1747 \nQ 947 1113 1208 752 \nQ 1469 391 1925 391 \nQ 2381 391 2643 752 \nQ 2906 1113 2906 1747 \nQ 2906 2381 2643 2742 \nQ 2381 3103 1925 3103 \nQ 1469 3103 1208 2742 \nQ 947 2381 947 1747 \nz\n\" id=\"DejaVuSans-64\" transform=\"scale(0.015625)\"/>\n      <path d=\"M 603 4863 \nL 1178 4863 \nL 1178 0 \nL 603 0 \nL 603 4863 \nz\n\" id=\"DejaVuSans-6c\" transform=\"scale(0.015625)\"/>\n      <path id=\"DejaVuSans-20\" transform=\"scale(0.015625)\"/>\n     </defs>\n     <use xlink:href=\"#DejaVuSans-6d\"/>\n     <use x=\"97.412109\" xlink:href=\"#DejaVuSans-6f\"/>\n     <use x=\"158.59375\" xlink:href=\"#DejaVuSans-64\"/>\n     <use x=\"222.070312\" xlink:href=\"#DejaVuSans-65\"/>\n     <use x=\"283.59375\" xlink:href=\"#DejaVuSans-6c\"/>\n     <use x=\"311.376953\" xlink:href=\"#DejaVuSans-20\"/>\n     <use x=\"343.164062\" xlink:href=\"#DejaVuSans-61\"/>\n     <use x=\"404.443359\" xlink:href=\"#DejaVuSans-63\"/>\n     <use x=\"459.423828\" xlink:href=\"#DejaVuSans-63\"/>\n     <use x=\"514.404297\" xlink:href=\"#DejaVuSans-75\"/>\n     <use x=\"577.783203\" xlink:href=\"#DejaVuSans-72\"/>\n     <use x=\"618.896484\" xlink:href=\"#DejaVuSans-61\"/>\n     <use x=\"680.175781\" xlink:href=\"#DejaVuSans-63\"/>\n     <use x=\"735.15625\" xlink:href=\"#DejaVuSans-79\"/>\n    </g>\n   </g>\n   <g id=\"legend_1\">\n    <g id=\"patch_7\">\n     <path d=\"M 57.14375 59.674375 \nL 113.095313 59.674375 \nQ 115.095313 59.674375 115.095313 57.674375 \nL 115.095313 29.318125 \nQ 115.095313 27.318125 113.095313 27.318125 \nL 57.14375 27.318125 \nQ 55.14375 27.318125 55.14375 29.318125 \nL 55.14375 57.674375 \nQ 55.14375 59.674375 57.14375 59.674375 \nz\n\" style=\"fill:#ffffff;opacity:0.8;stroke:#cccccc;stroke-linejoin:miter;\"/>\n    </g>\n    <g id=\"line2d_18\">\n     <path d=\"M 59.14375 35.416562 \nL 79.14375 35.416562 \n\" style=\"fill:none;stroke:#1f77b4;stroke-linecap:square;stroke-width:1.5;\"/>\n    </g>\n    <g id=\"line2d_19\"/>\n    <g id=\"text_19\">\n     <!-- train -->\n     <g transform=\"translate(87.14375 38.916562)scale(0.1 -0.1)\">\n      <defs>\n       <path d=\"M 1172 4494 \nL 1172 3500 \nL 2356 3500 \nL 2356 3053 \nL 1172 3053 \nL 1172 1153 \nQ 1172 725 1289 603 \nQ 1406 481 1766 481 \nL 2356 481 \nL 2356 0 \nL 1766 0 \nQ 1100 0 847 248 \nQ 594 497 594 1153 \nL 594 3053 \nL 172 3053 \nL 172 3500 \nL 594 3500 \nL 594 4494 \nL 1172 4494 \nz\n\" id=\"DejaVuSans-74\" transform=\"scale(0.015625)\"/>\n       <path d=\"M 603 3500 \nL 1178 3500 \nL 1178 0 \nL 603 0 \nL 603 3500 \nz\nM 603 4863 \nL 1178 4863 \nL 1178 4134 \nL 603 4134 \nL 603 4863 \nz\n\" id=\"DejaVuSans-69\" transform=\"scale(0.015625)\"/>\n       <path d=\"M 3513 2113 \nL 3513 0 \nL 2938 0 \nL 2938 2094 \nQ 2938 2591 2744 2837 \nQ 2550 3084 2163 3084 \nQ 1697 3084 1428 2787 \nQ 1159 2491 1159 1978 \nL 1159 0 \nL 581 0 \nL 581 3500 \nL 1159 3500 \nL 1159 2956 \nQ 1366 3272 1645 3428 \nQ 1925 3584 2291 3584 \nQ 2894 3584 3203 3211 \nQ 3513 2838 3513 2113 \nz\n\" id=\"DejaVuSans-6e\" transform=\"scale(0.015625)\"/>\n      </defs>\n      <use xlink:href=\"#DejaVuSans-74\"/>\n      <use x=\"39.208984\" xlink:href=\"#DejaVuSans-72\"/>\n      <use x=\"80.322266\" xlink:href=\"#DejaVuSans-61\"/>\n      <use x=\"141.601562\" xlink:href=\"#DejaVuSans-69\"/>\n      <use x=\"169.384766\" xlink:href=\"#DejaVuSans-6e\"/>\n     </g>\n    </g>\n    <g id=\"line2d_20\">\n     <path d=\"M 59.14375 50.094687 \nL 79.14375 50.094687 \n\" style=\"fill:none;stroke:#ff7f0e;stroke-linecap:square;stroke-width:1.5;\"/>\n    </g>\n    <g id=\"line2d_21\"/>\n    <g id=\"text_20\">\n     <!-- valid -->\n     <g transform=\"translate(87.14375 53.594687)scale(0.1 -0.1)\">\n      <defs>\n       <path d=\"M 191 3500 \nL 800 3500 \nL 1894 563 \nL 2988 3500 \nL 3597 3500 \nL 2284 0 \nL 1503 0 \nL 191 3500 \nz\n\" id=\"DejaVuSans-76\" transform=\"scale(0.015625)\"/>\n      </defs>\n      <use xlink:href=\"#DejaVuSans-76\"/>\n      <use x=\"59.179688\" xlink:href=\"#DejaVuSans-61\"/>\n      <use x=\"120.458984\" xlink:href=\"#DejaVuSans-6c\"/>\n      <use x=\"148.242188\" xlink:href=\"#DejaVuSans-69\"/>\n      <use x=\"176.025391\" xlink:href=\"#DejaVuSans-64\"/>\n     </g>\n    </g>\n   </g>\n  </g>\n </g>\n <defs>\n  <clipPath id=\"p51f3a7501f\">\n   <rect height=\"217.44\" width=\"334.8\" x=\"50.14375\" y=\"22.318125\"/>\n  </clipPath>\n </defs>\n</svg>\n",
      "image/png": "[encoded data removed]"
     },
     "metadata": {
      "needs_background": "light"
     }
    },
    {
     "output_type": "display_data",
     "data": {
      "text/plain": "<Figure size 432x288 with 1 Axes>",
      "image/svg+xml": "<?xml version=\"1.0\" encoding=\"utf-8\" standalone=\"no\"?>\n<!DOCTYPE svg PUBLIC \"-//W3C//DTD SVG 1.1//EN\"\n  \"http://www.w3.org/Graphics/SVG/1.1/DTD/svg11.dtd\">\n<svg height=\"277.314375pt\" version=\"1.1\" viewBox=\"0 0 385.78125 277.314375\" width=\"385.78125pt\" xmlns=\"http://www.w3.org/2000/svg\" xmlns:xlink=\"http://www.w3.org/1999/xlink\">\n <metadata>\n  <rdf:RDF xmlns:cc=\"http://creativecommons.org/ns#\" xmlns:dc=\"http://purl.org/dc/elements/1.1/\" xmlns:rdf=\"http://www.w3.org/1999/02/22-rdf-syntax-ns#\">\n   <cc:Work>\n    <dc:type rdf:resource=\"http://purl.org/dc/dcmitype/StillImage\"/>\n    <dc:date>2021-04-17T19:27:38.883738</dc:date>\n    <dc:format>image/svg+xml</dc:format>\n    <dc:creator>\n     <cc:Agent>\n      <dc:title>Matplotlib v3.4.1, https://matplotlib.org/</dc:title>\n     </cc:Agent>\n    </dc:creator>\n   </cc:Work>\n  </rdf:RDF>\n </metadata>\n <defs>\n  <style type=\"text/css\">*{stroke-linecap:butt;stroke-linejoin:round;}</style>\n </defs>\n <g id=\"figure_1\">\n  <g id=\"patch_1\">\n   <path d=\"M 0 277.314375 \nL 385.78125 277.314375 \nL 385.78125 0 \nL 0 0 \nz\n\" style=\"fill:none;\"/>\n  </g>\n  <g id=\"axes_1\">\n   <g id=\"patch_2\">\n    <path d=\"M 43.78125 239.758125 \nL 378.58125 239.758125 \nL 378.58125 22.318125 \nL 43.78125 22.318125 \nz\n\" style=\"fill:#ffffff;\"/>\n   </g>\n   <g id=\"matplotlib.axis_1\">\n    <g id=\"xtick_1\">\n     <g id=\"line2d_1\">\n      <defs>\n       <path d=\"M 0 0 \nL 0 3.5 \n\" id=\"mf423e3b2c1\" style=\"stroke:#000000;stroke-width:0.8;\"/>\n      </defs>\n      <g>\n       <use style=\"stroke:#000000;stroke-width:0.8;\" x=\"58.999432\" xlink:href=\"#mf423e3b2c1\" y=\"239.758125\"/>\n      </g>\n     </g>\n     <g id=\"text_1\">\n      <!-- 0 -->\n      <g transform=\"translate(55.818182 254.356562)scale(0.1 -0.1)\">\n       <defs>\n        <path d=\"M 2034 4250 \nQ 1547 4250 1301 3770 \nQ 1056 3291 1056 2328 \nQ 1056 1369 1301 889 \nQ 1547 409 2034 409 \nQ 2525 409 2770 889 \nQ 3016 1369 3016 2328 \nQ 3016 3291 2770 3770 \nQ 2525 4250 2034 4250 \nz\nM 2034 4750 \nQ 2819 4750 3233 4129 \nQ 3647 3509 3647 2328 \nQ 3647 1150 3233 529 \nQ 2819 -91 2034 -91 \nQ 1250 -91 836 529 \nQ 422 1150 422 2328 \nQ 422 3509 836 4129 \nQ 1250 4750 2034 4750 \nz\n\" id=\"DejaVuSans-30\" transform=\"scale(0.015625)\"/>\n       </defs>\n       <use xlink:href=\"#DejaVuSans-30\"/>\n      </g>\n     </g>\n    </g>\n    <g id=\"xtick_2\">\n     <g id=\"line2d_2\">\n      <g>\n       <use style=\"stroke:#000000;stroke-width:0.8;\" x=\"120.487035\" xlink:href=\"#mf423e3b2c1\" y=\"239.758125\"/>\n      </g>\n     </g>\n     <g id=\"text_2\">\n      <!-- 20 -->\n      <g transform=\"translate(114.124535 254.356562)scale(0.1 -0.1)\">\n       <defs>\n        <path d=\"M 1228 531 \nL 3431 531 \nL 3431 0 \nL 469 0 \nL 469 531 \nQ 828 903 1448 1529 \nQ 2069 2156 2228 2338 \nQ 2531 2678 2651 2914 \nQ 2772 3150 2772 3378 \nQ 2772 3750 2511 3984 \nQ 2250 4219 1831 4219 \nQ 1534 4219 1204 4116 \nQ 875 4013 500 3803 \nL 500 4441 \nQ 881 4594 1212 4672 \nQ 1544 4750 1819 4750 \nQ 2544 4750 2975 4387 \nQ 3406 4025 3406 3419 \nQ 3406 3131 3298 2873 \nQ 3191 2616 2906 2266 \nQ 2828 2175 2409 1742 \nQ 1991 1309 1228 531 \nz\n\" id=\"DejaVuSans-32\" transform=\"scale(0.015625)\"/>\n       </defs>\n       <use xlink:href=\"#DejaVuSans-32\"/>\n       <use x=\"63.623047\" xlink:href=\"#DejaVuSans-30\"/>\n      </g>\n     </g>\n    </g>\n    <g id=\"xtick_3\">\n     <g id=\"line2d_3\">\n      <g>\n       <use style=\"stroke:#000000;stroke-width:0.8;\" x=\"181.974638\" xlink:href=\"#mf423e3b2c1\" y=\"239.758125\"/>\n      </g>\n     </g>\n     <g id=\"text_3\">\n      <!-- 40 -->\n      <g transform=\"translate(175.612138 254.356562)scale(0.1 -0.1)\">\n       <defs>\n        <path d=\"M 2419 4116 \nL 825 1625 \nL 2419 1625 \nL 2419 4116 \nz\nM 2253 4666 \nL 3047 4666 \nL 3047 1625 \nL 3713 1625 \nL 3713 1100 \nL 3047 1100 \nL 3047 0 \nL 2419 0 \nL 2419 1100 \nL 313 1100 \nL 313 1709 \nL 2253 4666 \nz\n\" id=\"DejaVuSans-34\" transform=\"scale(0.015625)\"/>\n       </defs>\n       <use xlink:href=\"#DejaVuSans-34\"/>\n       <use x=\"63.623047\" xlink:href=\"#DejaVuSans-30\"/>\n      </g>\n     </g>\n    </g>\n    <g id=\"xtick_4\">\n     <g id=\"line2d_4\">\n      <g>\n       <use style=\"stroke:#000000;stroke-width:0.8;\" x=\"243.462242\" xlink:href=\"#mf423e3b2c1\" y=\"239.758125\"/>\n      </g>\n     </g>\n     <g id=\"text_4\">\n      <!-- 60 -->\n      <g transform=\"translate(237.099742 254.356562)scale(0.1 -0.1)\">\n       <defs>\n        <path d=\"M 2113 2584 \nQ 1688 2584 1439 2293 \nQ 1191 2003 1191 1497 \nQ 1191 994 1439 701 \nQ 1688 409 2113 409 \nQ 2538 409 2786 701 \nQ 3034 994 3034 1497 \nQ 3034 2003 2786 2293 \nQ 2538 2584 2113 2584 \nz\nM 3366 4563 \nL 3366 3988 \nQ 3128 4100 2886 4159 \nQ 2644 4219 2406 4219 \nQ 1781 4219 1451 3797 \nQ 1122 3375 1075 2522 \nQ 1259 2794 1537 2939 \nQ 1816 3084 2150 3084 \nQ 2853 3084 3261 2657 \nQ 3669 2231 3669 1497 \nQ 3669 778 3244 343 \nQ 2819 -91 2113 -91 \nQ 1303 -91 875 529 \nQ 447 1150 447 2328 \nQ 447 3434 972 4092 \nQ 1497 4750 2381 4750 \nQ 2619 4750 2861 4703 \nQ 3103 4656 3366 4563 \nz\n\" id=\"DejaVuSans-36\" transform=\"scale(0.015625)\"/>\n       </defs>\n       <use xlink:href=\"#DejaVuSans-36\"/>\n       <use x=\"63.623047\" xlink:href=\"#DejaVuSans-30\"/>\n      </g>\n     </g>\n    </g>\n    <g id=\"xtick_5\">\n     <g id=\"line2d_5\">\n      <g>\n       <use style=\"stroke:#000000;stroke-width:0.8;\" x=\"304.949845\" xlink:href=\"#mf423e3b2c1\" y=\"239.758125\"/>\n      </g>\n     </g>\n     <g id=\"text_5\">\n      <!-- 80 -->\n      <g transform=\"translate(298.587345 254.356562)scale(0.1 -0.1)\">\n       <defs>\n        <path d=\"M 2034 2216 \nQ 1584 2216 1326 1975 \nQ 1069 1734 1069 1313 \nQ 1069 891 1326 650 \nQ 1584 409 2034 409 \nQ 2484 409 2743 651 \nQ 3003 894 3003 1313 \nQ 3003 1734 2745 1975 \nQ 2488 2216 2034 2216 \nz\nM 1403 2484 \nQ 997 2584 770 2862 \nQ 544 3141 544 3541 \nQ 544 4100 942 4425 \nQ 1341 4750 2034 4750 \nQ 2731 4750 3128 4425 \nQ 3525 4100 3525 3541 \nQ 3525 3141 3298 2862 \nQ 3072 2584 2669 2484 \nQ 3125 2378 3379 2068 \nQ 3634 1759 3634 1313 \nQ 3634 634 3220 271 \nQ 2806 -91 2034 -91 \nQ 1263 -91 848 271 \nQ 434 634 434 1313 \nQ 434 1759 690 2068 \nQ 947 2378 1403 2484 \nz\nM 1172 3481 \nQ 1172 3119 1398 2916 \nQ 1625 2713 2034 2713 \nQ 2441 2713 2670 2916 \nQ 2900 3119 2900 3481 \nQ 2900 3844 2670 4047 \nQ 2441 4250 2034 4250 \nQ 1625 4250 1398 4047 \nQ 1172 3844 1172 3481 \nz\n\" id=\"DejaVuSans-38\" transform=\"scale(0.015625)\"/>\n       </defs>\n       <use xlink:href=\"#DejaVuSans-38\"/>\n       <use x=\"63.623047\" xlink:href=\"#DejaVuSans-30\"/>\n      </g>\n     </g>\n    </g>\n    <g id=\"xtick_6\">\n     <g id=\"line2d_6\">\n      <g>\n       <use style=\"stroke:#000000;stroke-width:0.8;\" x=\"366.437448\" xlink:href=\"#mf423e3b2c1\" y=\"239.758125\"/>\n      </g>\n     </g>\n     <g id=\"text_6\">\n      <!-- 100 -->\n      <g transform=\"translate(356.893698 254.356562)scale(0.1 -0.1)\">\n       <defs>\n        <path d=\"M 794 531 \nL 1825 531 \nL 1825 4091 \nL 703 3866 \nL 703 4441 \nL 1819 4666 \nL 2450 4666 \nL 2450 531 \nL 3481 531 \nL 3481 0 \nL 794 0 \nL 794 531 \nz\n\" id=\"DejaVuSans-31\" transform=\"scale(0.015625)\"/>\n       </defs>\n       <use xlink:href=\"#DejaVuSans-31\"/>\n       <use x=\"63.623047\" xlink:href=\"#DejaVuSans-30\"/>\n       <use x=\"127.246094\" xlink:href=\"#DejaVuSans-30\"/>\n      </g>\n     </g>\n    </g>\n    <g id=\"text_7\">\n     <!-- epoch -->\n     <g transform=\"translate(195.953125 268.034687)scale(0.1 -0.1)\">\n      <defs>\n       <path d=\"M 3597 1894 \nL 3597 1613 \nL 953 1613 \nQ 991 1019 1311 708 \nQ 1631 397 2203 397 \nQ 2534 397 2845 478 \nQ 3156 559 3463 722 \nL 3463 178 \nQ 3153 47 2828 -22 \nQ 2503 -91 2169 -91 \nQ 1331 -91 842 396 \nQ 353 884 353 1716 \nQ 353 2575 817 3079 \nQ 1281 3584 2069 3584 \nQ 2775 3584 3186 3129 \nQ 3597 2675 3597 1894 \nz\nM 3022 2063 \nQ 3016 2534 2758 2815 \nQ 2500 3097 2075 3097 \nQ 1594 3097 1305 2825 \nQ 1016 2553 972 2059 \nL 3022 2063 \nz\n\" id=\"DejaVuSans-65\" transform=\"scale(0.015625)\"/>\n       <path d=\"M 1159 525 \nL 1159 -1331 \nL 581 -1331 \nL 581 3500 \nL 1159 3500 \nL 1159 2969 \nQ 1341 3281 1617 3432 \nQ 1894 3584 2278 3584 \nQ 2916 3584 3314 3078 \nQ 3713 2572 3713 1747 \nQ 3713 922 3314 415 \nQ 2916 -91 2278 -91 \nQ 1894 -91 1617 61 \nQ 1341 213 1159 525 \nz\nM 3116 1747 \nQ 3116 2381 2855 2742 \nQ 2594 3103 2138 3103 \nQ 1681 3103 1420 2742 \nQ 1159 2381 1159 1747 \nQ 1159 1113 1420 752 \nQ 1681 391 2138 391 \nQ 2594 391 2855 752 \nQ 3116 1113 3116 1747 \nz\n\" id=\"DejaVuSans-70\" transform=\"scale(0.015625)\"/>\n       <path d=\"M 1959 3097 \nQ 1497 3097 1228 2736 \nQ 959 2375 959 1747 \nQ 959 1119 1226 758 \nQ 1494 397 1959 397 \nQ 2419 397 2687 759 \nQ 2956 1122 2956 1747 \nQ 2956 2369 2687 2733 \nQ 2419 3097 1959 3097 \nz\nM 1959 3584 \nQ 2709 3584 3137 3096 \nQ 3566 2609 3566 1747 \nQ 3566 888 3137 398 \nQ 2709 -91 1959 -91 \nQ 1206 -91 779 398 \nQ 353 888 353 1747 \nQ 353 2609 779 3096 \nQ 1206 3584 1959 3584 \nz\n\" id=\"DejaVuSans-6f\" transform=\"scale(0.015625)\"/>\n       <path d=\"M 3122 3366 \nL 3122 2828 \nQ 2878 2963 2633 3030 \nQ 2388 3097 2138 3097 \nQ 1578 3097 1268 2742 \nQ 959 2388 959 1747 \nQ 959 1106 1268 751 \nQ 1578 397 2138 397 \nQ 2388 397 2633 464 \nQ 2878 531 3122 666 \nL 3122 134 \nQ 2881 22 2623 -34 \nQ 2366 -91 2075 -91 \nQ 1284 -91 818 406 \nQ 353 903 353 1747 \nQ 353 2603 823 3093 \nQ 1294 3584 2113 3584 \nQ 2378 3584 2631 3529 \nQ 2884 3475 3122 3366 \nz\n\" id=\"DejaVuSans-63\" transform=\"scale(0.015625)\"/>\n       <path d=\"M 3513 2113 \nL 3513 0 \nL 2938 0 \nL 2938 2094 \nQ 2938 2591 2744 2837 \nQ 2550 3084 2163 3084 \nQ 1697 3084 1428 2787 \nQ 1159 2491 1159 1978 \nL 1159 0 \nL 581 0 \nL 581 4863 \nL 1159 4863 \nL 1159 2956 \nQ 1366 3272 1645 3428 \nQ 1925 3584 2291 3584 \nQ 2894 3584 3203 3211 \nQ 3513 2838 3513 2113 \nz\n\" id=\"DejaVuSans-68\" transform=\"scale(0.015625)\"/>\n      </defs>\n      <use xlink:href=\"#DejaVuSans-65\"/>\n      <use x=\"61.523438\" xlink:href=\"#DejaVuSans-70\"/>\n      <use x=\"125\" xlink:href=\"#DejaVuSans-6f\"/>\n      <use x=\"186.181641\" xlink:href=\"#DejaVuSans-63\"/>\n      <use x=\"241.162109\" xlink:href=\"#DejaVuSans-68\"/>\n     </g>\n    </g>\n   </g>\n   <g id=\"matplotlib.axis_2\">\n    <g id=\"ytick_1\">\n     <g id=\"line2d_7\">\n      <defs>\n       <path d=\"M 0 0 \nL -3.5 0 \n\" id=\"m676fd52b86\" style=\"stroke:#000000;stroke-width:0.8;\"/>\n      </defs>\n      <g>\n       <use style=\"stroke:#000000;stroke-width:0.8;\" x=\"43.78125\" xlink:href=\"#m676fd52b86\" y=\"213.29616\"/>\n      </g>\n     </g>\n     <g id=\"text_8\">\n      <!-- 1.0 -->\n      <g transform=\"translate(20.878125 217.095378)scale(0.1 -0.1)\">\n       <defs>\n        <path d=\"M 684 794 \nL 1344 794 \nL 1344 0 \nL 684 0 \nL 684 794 \nz\n\" id=\"DejaVuSans-2e\" transform=\"scale(0.015625)\"/>\n       </defs>\n       <use xlink:href=\"#DejaVuSans-31\"/>\n       <use x=\"63.623047\" xlink:href=\"#DejaVuSans-2e\"/>\n       <use x=\"95.410156\" xlink:href=\"#DejaVuSans-30\"/>\n      </g>\n     </g>\n    </g>\n    <g id=\"ytick_2\">\n     <g id=\"line2d_8\">\n      <g>\n       <use style=\"stroke:#000000;stroke-width:0.8;\" x=\"43.78125\" xlink:href=\"#m676fd52b86\" y=\"179.541625\"/>\n      </g>\n     </g>\n     <g id=\"text_9\">\n      <!-- 1.2 -->\n      <g transform=\"translate(20.878125 183.340844)scale(0.1 -0.1)\">\n       <use xlink:href=\"#DejaVuSans-31\"/>\n       <use x=\"63.623047\" xlink:href=\"#DejaVuSans-2e\"/>\n       <use x=\"95.410156\" xlink:href=\"#DejaVuSans-32\"/>\n      </g>\n     </g>\n    </g>\n    <g id=\"ytick_3\">\n     <g id=\"line2d_9\">\n      <g>\n       <use style=\"stroke:#000000;stroke-width:0.8;\" x=\"43.78125\" xlink:href=\"#m676fd52b86\" y=\"145.78709\"/>\n      </g>\n     </g>\n     <g id=\"text_10\">\n      <!-- 1.4 -->\n      <g transform=\"translate(20.878125 149.586309)scale(0.1 -0.1)\">\n       <use xlink:href=\"#DejaVuSans-31\"/>\n       <use x=\"63.623047\" xlink:href=\"#DejaVuSans-2e\"/>\n       <use x=\"95.410156\" xlink:href=\"#DejaVuSans-34\"/>\n      </g>\n     </g>\n    </g>\n    <g id=\"ytick_4\">\n     <g id=\"line2d_10\">\n      <g>\n       <use style=\"stroke:#000000;stroke-width:0.8;\" x=\"43.78125\" xlink:href=\"#m676fd52b86\" y=\"112.032556\"/>\n      </g>\n     </g>\n     <g id=\"text_11\">\n      <!-- 1.6 -->\n      <g transform=\"translate(20.878125 115.831775)scale(0.1 -0.1)\">\n       <use xlink:href=\"#DejaVuSans-31\"/>\n       <use x=\"63.623047\" xlink:href=\"#DejaVuSans-2e\"/>\n       <use x=\"95.410156\" xlink:href=\"#DejaVuSans-36\"/>\n      </g>\n     </g>\n    </g>\n    <g id=\"ytick_5\">\n     <g id=\"line2d_11\">\n      <g>\n       <use style=\"stroke:#000000;stroke-width:0.8;\" x=\"43.78125\" xlink:href=\"#m676fd52b86\" y=\"78.278021\"/>\n      </g>\n     </g>\n     <g id=\"text_12\">\n      <!-- 1.8 -->\n      <g transform=\"translate(20.878125 82.07724)scale(0.1 -0.1)\">\n       <use xlink:href=\"#DejaVuSans-31\"/>\n       <use x=\"63.623047\" xlink:href=\"#DejaVuSans-2e\"/>\n       <use x=\"95.410156\" xlink:href=\"#DejaVuSans-38\"/>\n      </g>\n     </g>\n    </g>\n    <g id=\"ytick_6\">\n     <g id=\"line2d_12\">\n      <g>\n       <use style=\"stroke:#000000;stroke-width:0.8;\" x=\"43.78125\" xlink:href=\"#m676fd52b86\" y=\"44.523487\"/>\n      </g>\n     </g>\n     <g id=\"text_13\">\n      <!-- 2.0 -->\n      <g transform=\"translate(20.878125 48.322705)scale(0.1 -0.1)\">\n       <use xlink:href=\"#DejaVuSans-32\"/>\n       <use x=\"63.623047\" xlink:href=\"#DejaVuSans-2e\"/>\n       <use x=\"95.410156\" xlink:href=\"#DejaVuSans-30\"/>\n      </g>\n     </g>\n    </g>\n    <g id=\"text_14\">\n     <!-- loss -->\n     <g transform=\"translate(14.798438 140.695937)rotate(-90)scale(0.1 -0.1)\">\n      <defs>\n       <path d=\"M 603 4863 \nL 1178 4863 \nL 1178 0 \nL 603 0 \nL 603 4863 \nz\n\" id=\"DejaVuSans-6c\" transform=\"scale(0.015625)\"/>\n       <path d=\"M 2834 3397 \nL 2834 2853 \nQ 2591 2978 2328 3040 \nQ 2066 3103 1784 3103 \nQ 1356 3103 1142 2972 \nQ 928 2841 928 2578 \nQ 928 2378 1081 2264 \nQ 1234 2150 1697 2047 \nL 1894 2003 \nQ 2506 1872 2764 1633 \nQ 3022 1394 3022 966 \nQ 3022 478 2636 193 \nQ 2250 -91 1575 -91 \nQ 1294 -91 989 -36 \nQ 684 19 347 128 \nL 347 722 \nQ 666 556 975 473 \nQ 1284 391 1588 391 \nQ 1994 391 2212 530 \nQ 2431 669 2431 922 \nQ 2431 1156 2273 1281 \nQ 2116 1406 1581 1522 \nL 1381 1569 \nQ 847 1681 609 1914 \nQ 372 2147 372 2553 \nQ 372 3047 722 3315 \nQ 1072 3584 1716 3584 \nQ 2034 3584 2315 3537 \nQ 2597 3491 2834 3397 \nz\n\" id=\"DejaVuSans-73\" transform=\"scale(0.015625)\"/>\n      </defs>\n      <use xlink:href=\"#DejaVuSans-6c\"/>\n      <use x=\"27.783203\" xlink:href=\"#DejaVuSans-6f\"/>\n      <use x=\"88.964844\" xlink:href=\"#DejaVuSans-73\"/>\n      <use x=\"141.064453\" xlink:href=\"#DejaVuSans-73\"/>\n     </g>\n    </g>\n   </g>\n   <g id=\"line2d_13\">\n    <path clip-path=\"url(#pc006b9ab0e)\" d=\"M 58.999432 115.672631 \nL 62.073812 118.964204 \nL 65.148192 122.771675 \nL 68.222572 124.13049 \nL 71.296952 124.727107 \nL 74.371333 126.48533 \nL 77.445713 126.14117 \nL 80.520093 128.459353 \nL 83.594473 128.014737 \nL 86.668853 128.307814 \nL 89.743233 127.636837 \nL 92.817614 129.238693 \nL 95.891994 130.598172 \nL 98.966374 130.816667 \nL 102.040754 129.959888 \nL 105.115134 131.140286 \nL 108.189514 131.278928 \nL 111.263895 131.292347 \nL 114.338275 131.729478 \nL 117.412655 132.784835 \nL 120.487035 133.18386 \nL 123.561415 132.726187 \nL 126.635795 133.407566 \nL 129.710176 133.331838 \nL 132.784556 134.655504 \nL 135.858936 135.404263 \nL 138.933316 134.518593 \nL 142.007696 135.09503 \nL 145.082076 135.744379 \nL 148.156457 137.575153 \nL 151.230837 137.563564 \nL 154.305217 136.691192 \nL 157.379597 137.852436 \nL 160.453977 139.744272 \nL 163.528357 139.600016 \nL 166.602738 141.439622 \nL 169.677118 139.146307 \nL 172.751498 140.762991 \nL 175.825878 142.04151 \nL 178.900258 142.765763 \nL 181.974638 144.383735 \nL 185.049019 144.445823 \nL 188.123399 145.278982 \nL 191.197779 146.12874 \nL 194.272159 146.282672 \nL 197.346539 149.316155 \nL 200.420919 148.042545 \nL 203.4953 151.463344 \nL 206.56968 151.420269 \nL 209.64406 151.246982 \nL 212.71844 151.480506 \nL 215.79282 153.223297 \nL 218.8672 151.348805 \nL 221.941581 156.408319 \nL 225.015961 158.255207 \nL 228.090341 157.990217 \nL 231.164721 156.358463 \nL 234.239101 158.770603 \nL 237.313481 161.742762 \nL 240.387862 162.299724 \nL 243.462242 163.012208 \nL 246.536622 163.836152 \nL 249.611002 164.88503 \nL 252.685382 165.056104 \nL 255.759762 168.635162 \nL 258.834143 172.257375 \nL 261.908523 169.79548 \nL 264.982903 171.358546 \nL 268.057283 172.7407 \nL 271.131663 177.438348 \nL 274.206043 176.581851 \nL 277.280424 178.30897 \nL 280.354804 181.709428 \nL 283.429184 184.385009 \nL 286.503564 184.208624 \nL 289.577944 184.952815 \nL 292.652324 187.103686 \nL 295.726705 187.267739 \nL 298.801085 189.517133 \nL 301.875465 191.778137 \nL 304.949845 189.983357 \nL 308.024225 194.467399 \nL 311.098605 197.000214 \nL 314.172986 197.681051 \nL 317.247366 200.834625 \nL 320.321746 204.562364 \nL 323.396126 203.982688 \nL 326.470506 207.713384 \nL 329.544886 204.530958 \nL 332.619267 206.898433 \nL 335.693647 209.695212 \nL 338.768027 217.184007 \nL 341.842407 215.519711 \nL 344.916787 224.586048 \nL 347.991167 221.852131 \nL 351.065548 225.705142 \nL 354.139928 222.350968 \nL 357.214308 225.082441 \nL 360.288688 229.874489 \nL 363.363068 226.607743 \n\" style=\"fill:none;stroke:#1f77b4;stroke-linecap:square;stroke-width:1.5;\"/>\n   </g>\n   <g id=\"line2d_14\">\n    <path clip-path=\"url(#pc006b9ab0e)\" d=\"M 58.999432 123.411045 \nL 62.073812 126.015284 \nL 65.148192 122.687758 \nL 68.222572 128.358615 \nL 71.296952 128.180882 \nL 74.371333 122.543804 \nL 77.445713 127.591468 \nL 80.520093 127.480349 \nL 83.594473 127.754253 \nL 86.668853 128.212851 \nL 89.743233 126.954914 \nL 92.817614 127.843421 \nL 95.891994 127.942891 \nL 98.966374 126.231707 \nL 102.040754 127.640156 \nL 105.115134 127.292334 \nL 108.189514 126.190482 \nL 111.263895 127.66941 \nL 114.338275 127.727997 \nL 117.412655 126.661998 \nL 120.487035 127.264932 \nL 123.561415 127.316216 \nL 126.635795 127.289155 \nL 129.710176 126.248104 \nL 132.784556 126.307959 \nL 135.858936 125.243207 \nL 138.933316 125.973577 \nL 142.007696 125.192808 \nL 145.082076 125.938167 \nL 148.156457 123.870972 \nL 151.230837 124.867942 \nL 154.305217 124.83722 \nL 157.379597 125.096839 \nL 160.453977 123.712553 \nL 163.528357 123.429656 \nL 166.602738 124.11522 \nL 169.677118 122.022615 \nL 172.751498 121.955275 \nL 175.825878 121.98813 \nL 178.900258 121.020011 \nL 181.974638 122.720451 \nL 185.049019 121.432496 \nL 188.123399 121.056246 \nL 191.197779 120.135668 \nL 194.272159 118.715006 \nL 197.346539 117.961077 \nL 200.420919 117.176144 \nL 203.4953 115.823364 \nL 206.56968 117.032754 \nL 209.64406 116.28659 \nL 212.71844 115.459447 \nL 215.79282 113.961044 \nL 218.8672 115.164599 \nL 221.941581 113.090483 \nL 225.015961 110.698121 \nL 228.090341 113.460014 \nL 231.164721 112.514348 \nL 234.239101 110.7215 \nL 237.313481 109.363167 \nL 240.387862 108.341973 \nL 243.462242 106.50951 \nL 246.536622 108.72096 \nL 249.611002 105.872071 \nL 252.685382 100.447413 \nL 255.759762 104.232391 \nL 258.834143 98.828536 \nL 261.908523 99.866127 \nL 264.982903 100.942931 \nL 268.057283 99.157426 \nL 271.131663 93.427116 \nL 274.206043 99.008805 \nL 277.280424 96.516369 \nL 280.354804 93.73317 \nL 283.429184 89.667729 \nL 286.503564 86.684544 \nL 289.577944 88.069193 \nL 292.652324 82.704671 \nL 295.726705 86.436494 \nL 298.801085 87.896067 \nL 301.875465 84.930164 \nL 304.949845 82.170625 \nL 308.024225 82.733583 \nL 311.098605 79.212348 \nL 314.172986 71.317969 \nL 317.247366 72.976783 \nL 320.321746 71.161079 \nL 323.396126 68.02885 \nL 326.470506 69.166756 \nL 329.544886 65.782333 \nL 332.619267 66.73152 \nL 335.693647 64.318756 \nL 338.768027 56.640116 \nL 341.842407 57.106461 \nL 344.916787 50.910892 \nL 347.991167 50.334515 \nL 351.065548 43.099767 \nL 354.139928 41.257445 \nL 357.214308 43.897294 \nL 360.288688 32.201761 \nL 363.363068 34.436248 \n\" style=\"fill:none;stroke:#ff7f0e;stroke-linecap:square;stroke-width:1.5;\"/>\n   </g>\n   <g id=\"patch_3\">\n    <path d=\"M 43.78125 239.758125 \nL 43.78125 22.318125 \n\" style=\"fill:none;stroke:#000000;stroke-linecap:square;stroke-linejoin:miter;stroke-width:0.8;\"/>\n   </g>\n   <g id=\"patch_4\">\n    <path d=\"M 378.58125 239.758125 \nL 378.58125 22.318125 \n\" style=\"fill:none;stroke:#000000;stroke-linecap:square;stroke-linejoin:miter;stroke-width:0.8;\"/>\n   </g>\n   <g id=\"patch_5\">\n    <path d=\"M 43.78125 239.758125 \nL 378.58125 239.758125 \n\" style=\"fill:none;stroke:#000000;stroke-linecap:square;stroke-linejoin:miter;stroke-width:0.8;\"/>\n   </g>\n   <g id=\"patch_6\">\n    <path d=\"M 43.78125 22.318125 \nL 378.58125 22.318125 \n\" style=\"fill:none;stroke:#000000;stroke-linecap:square;stroke-linejoin:miter;stroke-width:0.8;\"/>\n   </g>\n   <g id=\"text_15\">\n    <!-- model loss -->\n    <g transform=\"translate(179.001563 16.318125)scale(0.12 -0.12)\">\n     <defs>\n      <path d=\"M 3328 2828 \nQ 3544 3216 3844 3400 \nQ 4144 3584 4550 3584 \nQ 5097 3584 5394 3201 \nQ 5691 2819 5691 2113 \nL 5691 0 \nL 5113 0 \nL 5113 2094 \nQ 5113 2597 4934 2840 \nQ 4756 3084 4391 3084 \nQ 3944 3084 3684 2787 \nQ 3425 2491 3425 1978 \nL 3425 0 \nL 2847 0 \nL 2847 2094 \nQ 2847 2600 2669 2842 \nQ 2491 3084 2119 3084 \nQ 1678 3084 1418 2786 \nQ 1159 2488 1159 1978 \nL 1159 0 \nL 581 0 \nL 581 3500 \nL 1159 3500 \nL 1159 2956 \nQ 1356 3278 1631 3431 \nQ 1906 3584 2284 3584 \nQ 2666 3584 2933 3390 \nQ 3200 3197 3328 2828 \nz\n\" id=\"DejaVuSans-6d\" transform=\"scale(0.015625)\"/>\n      <path d=\"M 2906 2969 \nL 2906 4863 \nL 3481 4863 \nL 3481 0 \nL 2906 0 \nL 2906 525 \nQ 2725 213 2448 61 \nQ 2172 -91 1784 -91 \nQ 1150 -91 751 415 \nQ 353 922 353 1747 \nQ 353 2572 751 3078 \nQ 1150 3584 1784 3584 \nQ 2172 3584 2448 3432 \nQ 2725 3281 2906 2969 \nz\nM 947 1747 \nQ 947 1113 1208 752 \nQ 1469 391 1925 391 \nQ 2381 391 2643 752 \nQ 2906 1113 2906 1747 \nQ 2906 2381 2643 2742 \nQ 2381 3103 1925 3103 \nQ 1469 3103 1208 2742 \nQ 947 2381 947 1747 \nz\n\" id=\"DejaVuSans-64\" transform=\"scale(0.015625)\"/>\n      <path id=\"DejaVuSans-20\" transform=\"scale(0.015625)\"/>\n     </defs>\n     <use xlink:href=\"#DejaVuSans-6d\"/>\n     <use x=\"97.412109\" xlink:href=\"#DejaVuSans-6f\"/>\n     <use x=\"158.59375\" xlink:href=\"#DejaVuSans-64\"/>\n     <use x=\"222.070312\" xlink:href=\"#DejaVuSans-65\"/>\n     <use x=\"283.59375\" xlink:href=\"#DejaVuSans-6c\"/>\n     <use x=\"311.376953\" xlink:href=\"#DejaVuSans-20\"/>\n     <use x=\"343.164062\" xlink:href=\"#DejaVuSans-6c\"/>\n     <use x=\"370.947266\" xlink:href=\"#DejaVuSans-6f\"/>\n     <use x=\"432.128906\" xlink:href=\"#DejaVuSans-73\"/>\n     <use x=\"484.228516\" xlink:href=\"#DejaVuSans-73\"/>\n    </g>\n   </g>\n   <g id=\"legend_1\">\n    <g id=\"patch_7\">\n     <path d=\"M 50.78125 59.674375 \nL 106.732812 59.674375 \nQ 108.732812 59.674375 108.732812 57.674375 \nL 108.732812 29.318125 \nQ 108.732812 27.318125 106.732812 27.318125 \nL 50.78125 27.318125 \nQ 48.78125 27.318125 48.78125 29.318125 \nL 48.78125 57.674375 \nQ 48.78125 59.674375 50.78125 59.674375 \nz\n\" style=\"fill:#ffffff;opacity:0.8;stroke:#cccccc;stroke-linejoin:miter;\"/>\n    </g>\n    <g id=\"line2d_15\">\n     <path d=\"M 52.78125 35.416562 \nL 72.78125 35.416562 \n\" style=\"fill:none;stroke:#1f77b4;stroke-linecap:square;stroke-width:1.5;\"/>\n    </g>\n    <g id=\"line2d_16\"/>\n    <g id=\"text_16\">\n     <!-- train -->\n     <g transform=\"translate(80.78125 38.916562)scale(0.1 -0.1)\">\n      <defs>\n       <path d=\"M 1172 4494 \nL 1172 3500 \nL 2356 3500 \nL 2356 3053 \nL 1172 3053 \nL 1172 1153 \nQ 1172 725 1289 603 \nQ 1406 481 1766 481 \nL 2356 481 \nL 2356 0 \nL 1766 0 \nQ 1100 0 847 248 \nQ 594 497 594 1153 \nL 594 3053 \nL 172 3053 \nL 172 3500 \nL 594 3500 \nL 594 4494 \nL 1172 4494 \nz\n\" id=\"DejaVuSans-74\" transform=\"scale(0.015625)\"/>\n       <path d=\"M 2631 2963 \nQ 2534 3019 2420 3045 \nQ 2306 3072 2169 3072 \nQ 1681 3072 1420 2755 \nQ 1159 2438 1159 1844 \nL 1159 0 \nL 581 0 \nL 581 3500 \nL 1159 3500 \nL 1159 2956 \nQ 1341 3275 1631 3429 \nQ 1922 3584 2338 3584 \nQ 2397 3584 2469 3576 \nQ 2541 3569 2628 3553 \nL 2631 2963 \nz\n\" id=\"DejaVuSans-72\" transform=\"scale(0.015625)\"/>\n       <path d=\"M 2194 1759 \nQ 1497 1759 1228 1600 \nQ 959 1441 959 1056 \nQ 959 750 1161 570 \nQ 1363 391 1709 391 \nQ 2188 391 2477 730 \nQ 2766 1069 2766 1631 \nL 2766 1759 \nL 2194 1759 \nz\nM 3341 1997 \nL 3341 0 \nL 2766 0 \nL 2766 531 \nQ 2569 213 2275 61 \nQ 1981 -91 1556 -91 \nQ 1019 -91 701 211 \nQ 384 513 384 1019 \nQ 384 1609 779 1909 \nQ 1175 2209 1959 2209 \nL 2766 2209 \nL 2766 2266 \nQ 2766 2663 2505 2880 \nQ 2244 3097 1772 3097 \nQ 1472 3097 1187 3025 \nQ 903 2953 641 2809 \nL 641 3341 \nQ 956 3463 1253 3523 \nQ 1550 3584 1831 3584 \nQ 2591 3584 2966 3190 \nQ 3341 2797 3341 1997 \nz\n\" id=\"DejaVuSans-61\" transform=\"scale(0.015625)\"/>\n       <path d=\"M 603 3500 \nL 1178 3500 \nL 1178 0 \nL 603 0 \nL 603 3500 \nz\nM 603 4863 \nL 1178 4863 \nL 1178 4134 \nL 603 4134 \nL 603 4863 \nz\n\" id=\"DejaVuSans-69\" transform=\"scale(0.015625)\"/>\n       <path d=\"M 3513 2113 \nL 3513 0 \nL 2938 0 \nL 2938 2094 \nQ 2938 2591 2744 2837 \nQ 2550 3084 2163 3084 \nQ 1697 3084 1428 2787 \nQ 1159 2491 1159 1978 \nL 1159 0 \nL 581 0 \nL 581 3500 \nL 1159 3500 \nL 1159 2956 \nQ 1366 3272 1645 3428 \nQ 1925 3584 2291 3584 \nQ 2894 3584 3203 3211 \nQ 3513 2838 3513 2113 \nz\n\" id=\"DejaVuSans-6e\" transform=\"scale(0.015625)\"/>\n      </defs>\n      <use xlink:href=\"#DejaVuSans-74\"/>\n      <use x=\"39.208984\" xlink:href=\"#DejaVuSans-72\"/>\n      <use x=\"80.322266\" xlink:href=\"#DejaVuSans-61\"/>\n      <use x=\"141.601562\" xlink:href=\"#DejaVuSans-69\"/>\n      <use x=\"169.384766\" xlink:href=\"#DejaVuSans-6e\"/>\n     </g>\n    </g>\n    <g id=\"line2d_17\">\n     <path d=\"M 52.78125 50.094687 \nL 72.78125 50.094687 \n\" style=\"fill:none;stroke:#ff7f0e;stroke-linecap:square;stroke-width:1.5;\"/>\n    </g>\n    <g id=\"line2d_18\"/>\n    <g id=\"text_17\">\n     <!-- valid -->\n     <g transform=\"translate(80.78125 53.594687)scale(0.1 -0.1)\">\n      <defs>\n       <path d=\"M 191 3500 \nL 800 3500 \nL 1894 563 \nL 2988 3500 \nL 3597 3500 \nL 2284 0 \nL 1503 0 \nL 191 3500 \nz\n\" id=\"DejaVuSans-76\" transform=\"scale(0.015625)\"/>\n      </defs>\n      <use xlink:href=\"#DejaVuSans-76\"/>\n      <use x=\"59.179688\" xlink:href=\"#DejaVuSans-61\"/>\n      <use x=\"120.458984\" xlink:href=\"#DejaVuSans-6c\"/>\n      <use x=\"148.242188\" xlink:href=\"#DejaVuSans-69\"/>\n      <use x=\"176.025391\" xlink:href=\"#DejaVuSans-64\"/>\n     </g>\n    </g>\n   </g>\n  </g>\n </g>\n <defs>\n  <clipPath id=\"pc006b9ab0e\">\n   <rect height=\"217.44\" width=\"334.8\" x=\"43.78125\" y=\"22.318125\"/>\n  </clipPath>\n </defs>\n</svg>\n",
      "image/png": "[encoded data removed]"
     },
     "metadata": {
      "needs_background": "light"
     }
    }
   ],
   "source": [
    "# Plot model accuracy over epochs\n",
    "sns.reset_orig()   # Reset seaborn settings to get rid of black background\n",
    "plt.plot(estimator.history['acc'])\n",
    "plt.plot(estimator.history['val_acc'])\n",
    "plt.title('model accuracy')\n",
    "plt.ylabel('accuracy')\n",
    "plt.xlabel('epoch')\n",
    "plt.legend(['train', 'valid'], loc='upper left')\n",
    "plt.show()\n",
    "\n",
    "# Plot model loss over epochs\n",
    "plt.plot(estimator.history['loss'])\n",
    "plt.plot(estimator.history['val_loss'])\n",
    "plt.title('model loss')\n",
    "plt.ylabel('loss')\n",
    "plt.xlabel('epoch')\n",
    "plt.legend(['train', 'valid'], loc='upper left')\n",
    "plt.show()"
   ]
  },
  {
   "cell_type": "code",
   "execution_count": null,
   "metadata": {},
   "outputs": [],
   "source": []
  },
  {
   "cell_type": "code",
   "execution_count": 37,
   "metadata": {},
   "outputs": [
    {
     "output_type": "stream",
     "name": "stdout",
     "text": [
      "Found 19113 unique tokens.\n"
     ]
    }
   ],
   "source": [
    "from tensorflow.keras.preprocessing.text import Tokenizer\n",
    "\n",
    "tokenizer = Tokenizer(num_words=10000)\n",
    "tokenizer.fit_on_texts(dataset['body'])\n",
    "sequences = tokenizer.texts_to_sequences(dataset['body'])\n",
    "one_hot_results = tokenizer.texts_to_matrix(dataset['body'], mode='binary')\n",
    "\n",
    "word_index = tokenizer.word_index\n",
    "print('Found {} unique tokens.'.format(len(word_index)))"
   ]
  },
  {
   "cell_type": "code",
   "execution_count": 41,
   "metadata": {},
   "outputs": [
    {
     "output_type": "execute_result",
     "data": {
      "text/plain": [
       "[2,\n",
       " 29,\n",
       " 2611,\n",
       " 1,\n",
       " 115,\n",
       " 1,\n",
       " 115,\n",
       " 35,\n",
       " 6,\n",
       " 22,\n",
       " 230,\n",
       " 252,\n",
       " 18,\n",
       " 5,\n",
       " 5,\n",
       " 22,\n",
       " 2949,\n",
       " 3,\n",
       " 5335,\n",
       " 1438,\n",
       " 1,\n",
       " 29,\n",
       " 122,\n",
       " 17,\n",
       " 20,\n",
       " 601,\n",
       " 123,\n",
       " 6,\n",
       " 25,\n",
       " 13,\n",
       " 22,\n",
       " 2949]"
      ]
     },
     "metadata": {},
     "execution_count": 41
    }
   ],
   "source": [
    "sequences[0]"
   ]
  },
  {
   "cell_type": "code",
   "execution_count": 40,
   "metadata": {},
   "outputs": [
    {
     "output_type": "execute_result",
     "data": {
      "text/plain": [
       "157"
      ]
     },
     "metadata": {},
     "execution_count": 40
    }
   ],
   "source": [
    "len(dataset['body'][0])"
   ]
  },
  {
   "cell_type": "code",
   "execution_count": 188,
   "metadata": {},
   "outputs": [
    {
     "output_type": "execute_result",
     "data": {
      "text/plain": [
       "array([0., 0., 1., ..., 0., 0., 0.])"
      ]
     },
     "metadata": {},
     "execution_count": 188
    }
   ],
   "source": [
    "one_hot_results[0]"
   ]
  },
  {
   "cell_type": "code",
   "execution_count": null,
   "metadata": {},
   "outputs": [],
   "source": [
    "# Skip one hot encoding\n",
    "# Add word embeddings\n",
    "# Hyperparam=MAX_LENGTH. Calc median length, set it as max\n",
    "# Notebook 7.1 - inspiration for generation. Translate into word-by-word generation\n",
    "# Hyperparam=TEMP. Test in practise. From 1.0"
   ]
  }
 ]
}